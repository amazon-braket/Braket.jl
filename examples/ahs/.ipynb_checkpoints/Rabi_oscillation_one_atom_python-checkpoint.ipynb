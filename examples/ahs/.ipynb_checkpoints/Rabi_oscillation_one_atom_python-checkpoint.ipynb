{
 "cells": [
  {
   "cell_type": "code",
   "execution_count": 1,
   "id": "8f6d1575",
   "metadata": {},
   "outputs": [],
   "source": [
    "from braket.ahs.hamiltonian import Hamiltonian\n",
    "from braket.ahs.atom_arrangement import AtomArrangement\n",
    "from braket.ahs.analog_hamiltonian_simulation import AnalogHamiltonianSimulation\n",
    "\n",
    "from braket.timings.time_series import TimeSeries\n",
    "from braket.ahs.driving_field import DrivingField"
   ]
  },
  {
   "cell_type": "code",
   "execution_count": 2,
   "id": "f63a80e4",
   "metadata": {},
   "outputs": [
    {
     "data": {
      "text/plain": [
       "<braket.ahs.atom_arrangement.AtomArrangement at 0x7faef89c0c40>"
      ]
     },
     "execution_count": 2,
     "metadata": {},
     "output_type": "execute_result"
    }
   ],
   "source": [
    "import numpy as np\n",
    "\n",
    "# e.g. three atoms in an equilateral triangle, with pairwise\n",
    "# separation equal to 5.5 micrometers\n",
    "a = 5.5e-6  # meters\n",
    "\n",
    "register = AtomArrangement()\n",
    "register.add([0, 0])"
   ]
  },
  {
   "cell_type": "code",
   "execution_count": 3,
   "id": "48cc6993",
   "metadata": {},
   "outputs": [],
   "source": [
    "Omega_max = 2.5e6  # rad / seconds\n",
    "trange = np.linspace(0, 4*np.pi/Omega_max, 21)[1:]\n",
    "\n",
    "def get_program(t_max):\n",
    "    Omega = TimeSeries()\n",
    "    Omega.put(0.0, Omega_max)\n",
    "    Omega.put(t_max, Omega_max)\n",
    "\n",
    "    # e.g. all-zero phase and detuning\n",
    "    phi = TimeSeries().put(0.0, 0.0).put(t_max, 0.0)  # (time [s], value [rad])\n",
    "    Delta_global = TimeSeries().put(0.0, 0.0).put(t_max, 0.0)  # (time [s], value [rad/s])\n",
    "\n",
    "    drive = DrivingField(\n",
    "        amplitude=Omega,\n",
    "        phase=phi,\n",
    "        detuning=Delta_global\n",
    "    )\n",
    "    \n",
    "    ahs_program = AnalogHamiltonianSimulation(\n",
    "        hamiltonian=drive,\n",
    "        register=register\n",
    "    )\n",
    "    \n",
    "    return ahs_program\n",
    "    \n",
    "programs = [get_program(t) for t in trange]"
   ]
  },
  {
   "cell_type": "code",
   "execution_count": 4,
   "id": "6d89ef32",
   "metadata": {},
   "outputs": [],
   "source": [
    "from braket.devices import LocalSimulator\n",
    "device = LocalSimulator(\"braket_ahs\")\n"
   ]
  },
  {
   "cell_type": "code",
   "execution_count": 5,
   "id": "083ff170",
   "metadata": {},
   "outputs": [
    {
     "name": "stderr",
     "output_type": "stream",
     "text": [
      "/Users/maolinml/opt/anaconda3/lib/python3.9/site-packages/braket/analog_hamiltonian_simulator/rydberg/validators/times_series.py:39: UserWarning: Max time is 0.000004021238596594935 seconds which is bigger than the typical scale (0.000004 seconds). The time points should  be specified in SI units.\n",
      "  warnings.warn(\n",
      "/Users/maolinml/opt/anaconda3/lib/python3.9/site-packages/braket/analog_hamiltonian_simulator/rydberg/validators/times_series.py:39: UserWarning: Max time is 0.000004272566008882119 seconds which is bigger than the typical scale (0.000004 seconds). The time points should  be specified in SI units.\n",
      "  warnings.warn(\n",
      "/Users/maolinml/opt/anaconda3/lib/python3.9/site-packages/braket/analog_hamiltonian_simulator/rydberg/validators/times_series.py:39: UserWarning: Max time is 0.000004523893421169302 seconds which is bigger than the typical scale (0.000004 seconds). The time points should  be specified in SI units.\n",
      "  warnings.warn(\n",
      "/Users/maolinml/opt/anaconda3/lib/python3.9/site-packages/braket/analog_hamiltonian_simulator/rydberg/validators/times_series.py:39: UserWarning: Max time is 0.000004775220833456486 seconds which is bigger than the typical scale (0.000004 seconds). The time points should  be specified in SI units.\n",
      "  warnings.warn(\n",
      "/Users/maolinml/opt/anaconda3/lib/python3.9/site-packages/braket/analog_hamiltonian_simulator/rydberg/validators/times_series.py:39: UserWarning: Max time is 0.000005026548245743669 seconds which is bigger than the typical scale (0.000004 seconds). The time points should  be specified in SI units.\n",
      "  warnings.warn(\n"
     ]
    }
   ],
   "source": [
    "results = [device.run(ahs_program, shots=1000).result() for ahs_program in programs]\n"
   ]
  },
  {
   "cell_type": "code",
   "execution_count": 6,
   "id": "a943df92",
   "metadata": {},
   "outputs": [],
   "source": [
    "# def get_counters_from_result(result):\n",
    "#     post_sequences = [list(measurement.post_sequence) for measurement in result.measurements]\n",
    "#     post_sequences = [\"\".join(['r' if site==0 else 'g' for site in post_sequence]) for post_sequence in post_sequences]\n",
    "\n",
    "#     counters = {}\n",
    "#     for post_sequence in post_sequences:\n",
    "#         if post_sequence in counters:\n",
    "#             counters[post_sequence] += 1\n",
    "#         else:\n",
    "#             counters[post_sequence] = 1\n",
    "#     return counters\n",
    "\n",
    "from collections import Counter\n",
    "\n",
    "\n",
    "def get_counts(result):\n",
    "    \"\"\"Aggregate state counts from AHS shot results\n",
    "        A count of strings (of length = # of atoms) are returned, where\n",
    "        each character denotes the state of an atom (site):\n",
    "            e: empty site\n",
    "            r: Rydberg state atom\n",
    "            g: ground state atom\n",
    "        Args:\n",
    "            result (braket.tasks.analog_hamiltonian_simulation_quantum_task_result.AnalogHamiltonianSimulationQuantumTaskResult)\n",
    "        Returns:\n",
    "            dict: number of times each state configuration is measured\n",
    "    \"\"\"\n",
    "\n",
    "    state_counts = Counter()\n",
    "    states = ['e', 'r', 'g']\n",
    "    for shot in result.measurements:\n",
    "        pre = shot.pre_sequence\n",
    "        post = shot.post_sequence\n",
    "        state_idx = np.array(pre) * (1 + np.array(post))\n",
    "        state = \"\".join(map(lambda s_idx: states[s_idx], state_idx))\n",
    "        state_counts.update((state,))\n",
    "\n",
    "    return dict(state_counts)"
   ]
  },
  {
   "cell_type": "code",
   "execution_count": 7,
   "id": "16f21ee0",
   "metadata": {},
   "outputs": [],
   "source": [
    "counts = [get_counts(result) for result in results]"
   ]
  },
  {
   "cell_type": "code",
   "execution_count": 8,
   "id": "9024cd45",
   "metadata": {},
   "outputs": [
    {
     "data": {
      "text/plain": [
       "[{'g': 918, 'r': 82},\n",
       " {'g': 630, 'r': 370},\n",
       " {'g': 353, 'r': 647},\n",
       " {'g': 90, 'r': 910},\n",
       " {'r': 1000},\n",
       " {'g': 90, 'r': 910},\n",
       " {'g': 343, 'r': 657},\n",
       " {'g': 673, 'r': 327},\n",
       " {'g': 914, 'r': 86},\n",
       " {'g': 1000},\n",
       " {'g': 901, 'r': 99},\n",
       " {'g': 624, 'r': 376},\n",
       " {'g': 354, 'r': 646},\n",
       " {'g': 87, 'r': 913},\n",
       " {'r': 1000},\n",
       " {'g': 98, 'r': 902},\n",
       " {'g': 363, 'r': 637},\n",
       " {'g': 674, 'r': 326},\n",
       " {'g': 915, 'r': 85},\n",
       " {'g': 1000}]"
      ]
     },
     "execution_count": 8,
     "metadata": {},
     "output_type": "execute_result"
    }
   ],
   "source": [
    "counts"
   ]
  },
  {
   "cell_type": "code",
   "execution_count": 9,
   "id": "89c0a862",
   "metadata": {},
   "outputs": [
    {
     "data": {
      "text/plain": [
       "[<matplotlib.lines.Line2D at 0x7faed8e96b50>]"
      ]
     },
     "execution_count": 9,
     "metadata": {},
     "output_type": "execute_result"
    },
    {
     "data": {
      "image/png": "[encoded data removed]",
      "text/plain": [
       "<Figure size 432x288 with 1 Axes>"
      ]
     },
     "metadata": {
      "needs_background": "light"
     },
     "output_type": "display_data"
    }
   ],
   "source": [
    "import matplotlib.pyplot as plt\n",
    "\n",
    "plt.plot(trange, [count['g'] if 'g' in count else 0 for count in counts], 'o-')"
   ]
  },
  {
   "cell_type": "code",
   "execution_count": null,
   "id": "5b44f7ca",
   "metadata": {},
   "outputs": [],
   "source": []
  }
 ],
 "metadata": {
  "kernelspec": {
   "display_name": "Python 3 (ipykernel)",
   "language": "python",
   "name": "python3"
  },
  "language_info": {
   "codemirror_mode": {
    "name": "ipython",
    "version": 3
   },
   "file_extension": ".py",
   "mimetype": "text/x-python",
   "name": "python",
   "nbconvert_exporter": "python",
   "pygments_lexer": "ipython3",
   "version": "3.9.7"
  },
  "varInspector": {
   "cols": {
    "lenName": 16,
    "lenType": 16,
    "lenVar": 40
   },
   "kernels_config": {
    "python": {
     "delete_cmd_postfix": "",
     "delete_cmd_prefix": "del ",
     "library": "var_list.py",
     "varRefreshCmd": "print(var_dic_list())"
    },
    "r": {
     "delete_cmd_postfix": ") ",
     "delete_cmd_prefix": "rm(",
     "library": "var_list.r",
     "varRefreshCmd": "cat(var_dic_list()) "
    }
   },
   "types_to_exclude": [
    "module",
    "function",
    "builtin_function_or_method",
    "instance",
    "_Feature"
   ],
   "window_display": false
  }
 },
 "nbformat": 4,
 "nbformat_minor": 5
}
