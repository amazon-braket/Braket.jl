{
 "cells": [
  {
   "cell_type": "code",
   "execution_count": 1,
   "id": "fe220f15",
   "metadata": {
    "scrolled": true
   },
   "outputs": [
    {
     "name": "stderr",
     "output_type": "stream",
     "text": [
      "\u001b[32m\u001b[1m   Resolving\u001b[22m\u001b[39m package versions...\n",
      "\u001b[32m\u001b[1m  No Changes\u001b[22m\u001b[39m to `~/Documents/Braket/braket-jl/examples/ahs/Project.toml`\n",
      "\u001b[32m\u001b[1m  No Changes\u001b[22m\u001b[39m to `~/Documents/Braket/braket-jl/examples/ahs/Manifest.toml`\n",
      "\u001b[32m\u001b[1m   Resolving\u001b[22m\u001b[39m package versions...\n",
      "\u001b[32m\u001b[1m  No Changes\u001b[22m\u001b[39m to `~/Documents/Braket/braket-jl/examples/ahs/Project.toml`\n",
      "\u001b[32m\u001b[1m  No Changes\u001b[22m\u001b[39m to `~/Documents/Braket/braket-jl/examples/ahs/Manifest.toml`\n"
     ]
    }
   ],
   "source": [
    "path_to_braketjl = \"/Users/maolinml/Documents/Braket/braket-jl\"\n",
    "import Pkg; \n",
    "Pkg.develop(Pkg.PackageSpec(path=path_to_braketjl)); \n",
    "Pkg.develop(Pkg.PackageSpec(path=joinpath(path_to_braketjl, \"PyBraket\")))\n",
    " "
   ]
  },
  {
   "cell_type": "code",
   "execution_count": 2,
   "id": "fe7fb3a6",
   "metadata": {},
   "outputs": [
    {
     "name": "stderr",
     "output_type": "stream",
     "text": [
      "┌ Info: Precompiling Braket [19504a0f-b47d-4348-9127-acc6cc69ef67]\n",
      "└ @ Base loading.jl:1664\n"
     ]
    }
   ],
   "source": [
    "using Braket\n",
    "using DataStructures"
   ]
  },
  {
   "cell_type": "markdown",
   "id": "3c468bdb",
   "metadata": {},
   "source": [
    "# Define register\n"
   ]
  },
  {
   "cell_type": "code",
   "execution_count": 3,
   "id": "a686ff9a",
   "metadata": {},
   "outputs": [
    {
     "data": {
      "text/plain": [
       "1-element Vector{AtomArrangementItem}:\n",
       " AtomArrangementItem((0.0, 0.0), filled)"
      ]
     },
     "execution_count": 3,
     "metadata": {},
     "output_type": "execute_result"
    }
   ],
   "source": [
    "a = 5.5e-6\n",
    "\n",
    "register = AtomArrangement()\n",
    "push!(register, AtomArrangementItem((0, 0) .* a))"
   ]
  },
  {
   "cell_type": "markdown",
   "id": "fe346a0e",
   "metadata": {},
   "source": [
    "# Run with local sim"
   ]
  },
  {
   "cell_type": "code",
   "execution_count": 4,
   "id": "78025892",
   "metadata": {
    "scrolled": true
   },
   "outputs": [
    {
     "name": "stderr",
     "output_type": "stream",
     "text": [
      "┌ Info: Precompiling PyBraket [e85266a6-1825-490b-a80e-9b9469c53660]\n",
      "└ @ Base loading.jl:1664\n",
      "\u001b[32m\u001b[1m    CondaPkg \u001b[22m\u001b[39m\u001b[0mFound dependencies: /Users/maolinml/Documents/Braket/braket-jl/PyBraket/CondaPkg.toml\n",
      "\u001b[32m\u001b[1m    CondaPkg \u001b[22m\u001b[39m\u001b[0mFound dependencies: /Users/maolinml/.julia/packages/PythonCall/GyqMi/CondaPkg.toml\n",
      "\u001b[32m\u001b[1m    CondaPkg \u001b[22m\u001b[39m\u001b[0mResolving changes\n",
      "\u001b[32m\u001b[1m             \u001b[22m\u001b[39m\u001b[32m+ amazon-braket-sdk (pip)\u001b[39m\n",
      "\u001b[32m\u001b[1m             \u001b[22m\u001b[39m\u001b[32m+ numpy\u001b[39m\n",
      "\u001b[32m\u001b[1m             \u001b[22m\u001b[39m\u001b[32m+ pip\u001b[39m\n",
      "\u001b[32m\u001b[1m             \u001b[22m\u001b[39m\u001b[32m+ pydantic\u001b[39m\n",
      "\u001b[32m\u001b[1m             \u001b[22m\u001b[39m\u001b[32m+ python\u001b[39m\n",
      "\u001b[32m\u001b[1m             \u001b[22m\u001b[39m\u001b[32m+ scipy\u001b[39m\n"
     ]
    },
    {
     "name": "stdout",
     "output_type": "stream",
     "text": [
      "\n",
      "                                           __\n",
      "          __  ______ ___  ____ _____ ___  / /_  ____ _\n",
      "         / / / / __ `__ \\/ __ `/ __ `__ \\/ __ \\/ __ `/\n",
      "        / /_/ / / / / / / /_/ / / / / / / /_/ / /_/ /\n",
      "       / .___/_/ /_/ /_/\\__,_/_/ /_/ /_/_.___/\\__,_/\n",
      "      /_/\n",
      "\n",
      "conda-forge/osx-arm64                                       Using cache\n",
      "conda-forge/noarch                                          Using cache\n"
     ]
    },
    {
     "name": "stderr",
     "output_type": "stream",
     "text": [
      "\u001b[32m\u001b[1m    CondaPkg \u001b[22m\u001b[39m\u001b[0mInstalling packages\n",
      "\u001b[32m\u001b[1m             \u001b[22m\u001b[39m│ \u001b[90m/Users/maolinml/.julia/artifacts/4a49fe3f01ba8cdfd842f1bdb4c5131db581a8e6/bin/micromamba\u001b[39m\n",
      "\u001b[32m\u001b[1m             \u001b[22m\u001b[39m│ \u001b[90m-r /Users/maolinml/.julia/scratchspaces/0b3b1443-0f03-428d-bdfb-f27f9c1191ea/root\u001b[39m\n",
      "\u001b[32m\u001b[1m             \u001b[22m\u001b[39m│ \u001b[90mcreate\u001b[39m\n",
      "\u001b[32m\u001b[1m             \u001b[22m\u001b[39m│ \u001b[90m-y\u001b[39m\n",
      "\u001b[32m\u001b[1m             \u001b[22m\u001b[39m│ \u001b[90m-p /Users/maolinml/Documents/Braket/braket-jl/examples/ahs/.CondaPkg/env\u001b[39m\n",
      "\u001b[32m\u001b[1m             \u001b[22m\u001b[39m│ \u001b[90m--override-channels\u001b[39m\n",
      "\u001b[32m\u001b[1m             \u001b[22m\u001b[39m│ \u001b[90m--no-channel-priority\u001b[39m\n",
      "\u001b[32m\u001b[1m             \u001b[22m\u001b[39m│ \u001b[90mnumpy[version='*']\u001b[39m\n",
      "\u001b[32m\u001b[1m             \u001b[22m\u001b[39m│ \u001b[90mpip[version='>=22.0.0']\u001b[39m\n",
      "\u001b[32m\u001b[1m             \u001b[22m\u001b[39m│ \u001b[90mpydantic[version='*']\u001b[39m\n",
      "\u001b[32m\u001b[1m             \u001b[22m\u001b[39m│ \u001b[90mpython[version='>=3.7,<=3.9']\u001b[39m\n",
      "\u001b[32m\u001b[1m             \u001b[22m\u001b[39m│ \u001b[90mpython[version='>=3.7,<4',channel='conda-forge',build='*cpython*']\u001b[39m\n",
      "\u001b[32m\u001b[1m             \u001b[22m\u001b[39m│ \u001b[90mscipy[version='*']\u001b[39m\n",
      "\u001b[32m\u001b[1m             \u001b[22m\u001b[39m└ \u001b[90m-c conda-forge\u001b[39m\n"
     ]
    },
    {
     "name": "stdout",
     "output_type": "stream",
     "text": [
      "\n",
      "Transaction\n",
      "\n",
      "  Prefix: /Users/maolinml/Documents/Braket/braket-jl/examples/ahs/.CondaPkg/env\n",
      "\n",
      "  Updating specs:\n",
      "\n",
      "   - numpy=*\n",
      "   - pip[version='>=22.0.0']\n",
      "   - pydantic=*\n",
      "   - python[version='>=3.7,<=3.9']\n",
      "   - conda-forge::python[version='>=3.7,<4',build=*cpython*]\n",
      "   - scipy=*\n",
      "\n",
      "\n",
      "  Package                Version  Build                 Channel                     Size\n",
      "──────────────────────────────────────────────────────────────────────────────────────────\n",
      "  Install:\n",
      "──────────────────────────────────────────────────────────────────────────────────────────\n",
      "\n",
      "  + ca-certificates    2022.9.24  h4653dfc_0            conda-forge/osx-arm64     Cached\n",
      "  + libblas                3.9.0  16_osxarm64_openblas  conda-forge/osx-arm64     Cached\n",
      "  + libcblas               3.9.0  16_osxarm64_openblas  conda-forge/osx-arm64     Cached\n",
      "  + libcxx                14.0.6  h2692d47_0            conda-forge/osx-arm64     Cached\n",
      "  + libffi                   3.3  h9f76cd9_2            conda-forge/osx-arm64     Cached\n",
      "  + libgfortran            5.0.0  11_3_0_hd922786_25    conda-forge/osx-arm64     Cached\n",
      "  + libgfortran5          11.3.0  hdaf2cc0_25           conda-forge/osx-arm64     Cached\n",
      "  + liblapack              3.9.0  16_osxarm64_openblas  conda-forge/osx-arm64     Cached\n",
      "  + libopenblas           0.3.21  openmp_hc731615_3     conda-forge/osx-arm64     Cached\n",
      "  + libsqlite             3.39.4  h76d750c_0            conda-forge/osx-arm64     Cached\n",
      "  + libzlib               1.2.13  h03a7124_4            conda-forge/osx-arm64     Cached\n",
      "  + llvm-openmp           14.0.4  hd125106_0            conda-forge/osx-arm64     Cached\n",
      "  + ncurses                  6.3  h07bb92c_1            conda-forge/osx-arm64     Cached\n",
      "  + numpy                 1.23.4  py39hefdcf20_1        conda-forge/osx-arm64     Cached\n",
      "  + openssl               1.1.1s  h03a7124_0            conda-forge/osx-arm64     Cached\n",
      "  + pip                     22.3  pyhd8ed1ab_0          conda-forge/noarch        Cached\n",
      "  + pydantic              1.10.2  py39h02fc5c5_1        conda-forge/osx-arm64     Cached\n",
      "  + python                 3.9.0  h4b4120c_5_cpython    conda-forge/osx-arm64     Cached\n",
      "  + python_abi               3.9  2_cp39                conda-forge/osx-arm64     Cached\n",
      "  + readline               8.1.2  h46ed386_0            conda-forge/osx-arm64     Cached\n",
      "  + scipy                  1.9.3  py39h18313fe_1        conda-forge/osx-arm64     Cached\n",
      "  + setuptools            65.5.0  pyhd8ed1ab_0          conda-forge/noarch        Cached\n",
      "  + sqlite                3.39.4  h2229b38_0            conda-forge/osx-arm64     Cached\n",
      "  + tk                    8.6.12  he1e0b03_0            conda-forge/osx-arm64     Cached\n",
      "  + typing-extensions      4.4.0  hd8ed1ab_0            conda-forge/noarch        Cached\n",
      "  + typing_extensions      4.4.0  pyha770c72_0          conda-forge/noarch        Cached\n",
      "  + tzdata                 2022f  h191b570_0            conda-forge/noarch        Cached\n",
      "  + wheel                 0.37.1  pyhd8ed1ab_0          conda-forge/noarch        Cached\n",
      "  + xz                     5.2.6  h57fd34a_0            conda-forge/osx-arm64     Cached\n",
      "  + zlib                  1.2.13  h03a7124_4            conda-forge/osx-arm64     Cached\n",
      "\n",
      "  Summary:\n",
      "\n",
      "  Install: 30 packages\n",
      "\n",
      "  Total download: 0 B\n",
      "\n",
      "──────────────────────────────────────────────────────────────────────────────────────────\n",
      "\n",
      "\n",
      "Transaction starting\n",
      "Linking ncurses-6.3-h07bb92c_1\n",
      "Linking xz-5.2.6-h57fd34a_0\n",
      "Linking libzlib-1.2.13-h03a7124_4\n",
      "Linking ca-certificates-2022.9.24-h4653dfc_0\n",
      "Linking llvm-openmp-14.0.4-hd125106_0\n",
      "Linking libcxx-14.0.6-h2692d47_0\n",
      "Linking readline-8.1.2-h46ed386_0\n",
      "Linking zlib-1.2.13-h03a7124_4\n",
      "Linking tk-8.6.12-he1e0b03_0\n",
      "Linking libsqlite-3.39.4-h76d750c_0\n",
      "Linking openssl-1.1.1s-h03a7124_0\n",
      "Linking libgfortran5-11.3.0-hdaf2cc0_25\n",
      "Linking libffi-3.3-h9f76cd9_2\n",
      "Linking sqlite-3.39.4-h2229b38_0\n",
      "Linking libgfortran-5.0.0-11_3_0_hd922786_25\n",
      "Linking libopenblas-0.3.21-openmp_hc731615_3\n",
      "Linking libblas-3.9.0-16_osxarm64_openblas\n",
      "Linking libcblas-3.9.0-16_osxarm64_openblas\n",
      "Linking liblapack-3.9.0-16_osxarm64_openblas\n",
      "Linking tzdata-2022f-h191b570_0\n",
      "Linking python-3.9.0-h4b4120c_5_cpython\n",
      "Linking wheel-0.37.1-pyhd8ed1ab_0\n",
      "Linking setuptools-65.5.0-pyhd8ed1ab_0\n",
      "Linking pip-22.3-pyhd8ed1ab_0\n",
      "Linking typing_extensions-4.4.0-pyha770c72_0\n",
      "Linking typing-extensions-4.4.0-hd8ed1ab_0\n",
      "Linking python_abi-3.9-2_cp39\n",
      "Linking pydantic-1.10.2-py39h02fc5c5_1\n",
      "Linking numpy-1.23.4-py39hefdcf20_1\n",
      "Linking scipy-1.9.3-py39h18313fe_1\n",
      "Transaction finished\n"
     ]
    },
    {
     "name": "stderr",
     "output_type": "stream",
     "text": [
      "\u001b[32m\u001b[1m    CondaPkg \u001b[22m\u001b[39m\u001b[0mInstalling Pip packages\n",
      "\u001b[32m\u001b[1m             \u001b[22m\u001b[39m│ \u001b[90m/Users/maolinml/Documents/Braket/braket-jl/examples/ahs/.CondaPkg/env/bin/pip\u001b[39m\n",
      "\u001b[32m\u001b[1m             \u001b[22m\u001b[39m│ \u001b[90minstall\u001b[39m\n",
      "\u001b[32m\u001b[1m             \u001b[22m\u001b[39m└ \u001b[90mamazon-braket-sdk >=1.33.0.dev0\u001b[39m\n"
     ]
    },
    {
     "name": "stdout",
     "output_type": "stream",
     "text": [
      "Collecting amazon-braket-sdk>=1.33.0.dev0\n",
      "  Using cached amazon_braket_sdk-1.33.0-py3-none-any.whl (241 kB)\n",
      "Collecting oqpy==0.1.0\n",
      "  Using cached oqpy-0.1.0-py3-none-any.whl (26 kB)\n",
      "Collecting boltons\n",
      "  Using cached boltons-21.0.0-py2.py3-none-any.whl (193 kB)\n",
      "Requirement already satisfied: numpy in ./.CondaPkg/env/lib/python3.9/site-packages (from amazon-braket-sdk>=1.33.0.dev0) (1.23.4)\n",
      "Collecting openpulse\n",
      "  Using cached openpulse-0.4.0-py3-none-any.whl (376 kB)\n",
      "Collecting sympy\n",
      "  Using cached sympy-1.11.1-py3-none-any.whl (6.5 MB)\n",
      "Collecting nest-asyncio\n",
      "  Using cached nest_asyncio-1.5.6-py3-none-any.whl (5.2 kB)\n",
      "Collecting openqasm3\n",
      "  Using cached openqasm3-0.4.0-py3-none-any.whl (385 kB)\n",
      "Collecting networkx\n",
      "  Using cached networkx-2.8.8-py3-none-any.whl (2.0 MB)\n",
      "Collecting backoff\n",
      "  Using cached backoff-2.2.1-py3-none-any.whl (15 kB)\n",
      "Collecting amazon-braket-schemas>=1.12.0\n",
      "  Using cached amazon_braket_schemas-1.12.0-py3-none-any.whl (109 kB)\n",
      "Collecting boto3>=1.22.3\n",
      "  Using cached boto3-1.26.0-py3-none-any.whl (132 kB)\n",
      "Collecting amazon-braket-default-simulator>=1.10.0\n",
      "  Using cached amazon_braket_default_simulator-1.10.0-py3-none-any.whl (206 kB)\n",
      "Collecting numpy\n",
      "  Using cached numpy-1.21.6-cp39-cp39-macosx_11_0_arm64.whl (12.4 MB)\n",
      "Collecting mypy-extensions<0.5.0,>=0.4.3\n",
      "  Using cached mypy_extensions-0.4.3-py2.py3-none-any.whl (4.5 kB)\n",
      "Collecting importlib-metadata\n",
      "  Using cached importlib_metadata-5.0.0-py3-none-any.whl (21 kB)\n",
      "Collecting antlr4-python3-runtime<4.12,>=4.7\n",
      "  Using cached antlr4_python3_runtime-4.11.1-py3-none-any.whl (144 kB)\n",
      "Collecting pydantic==1.9.0\n",
      "  Using cached pydantic-1.9.0-cp39-cp39-macosx_11_0_arm64.whl (2.4 MB)\n",
      "Requirement already satisfied: scipy in ./.CondaPkg/env/lib/python3.9/site-packages (from amazon-braket-default-simulator>=1.10.0->amazon-braket-sdk>=1.33.0.dev0) (1.9.3)\n",
      "Collecting antlr4-python3-runtime<4.12,>=4.7\n",
      "  Using cached antlr4_python3_runtime-4.9.2-py3-none-any.whl\n",
      "Collecting opt-einsum\n",
      "  Using cached opt_einsum-3.3.0-py3-none-any.whl (65 kB)\n",
      "Requirement already satisfied: typing-extensions>=3.7.4.3 in ./.CondaPkg/env/lib/python3.9/site-packages (from pydantic==1.9.0->amazon-braket-default-simulator>=1.10.0->amazon-braket-sdk>=1.33.0.dev0) (4.4.0)\n",
      "Collecting jmespath<2.0.0,>=0.7.1\n",
      "  Using cached jmespath-1.0.1-py3-none-any.whl (20 kB)\n",
      "Collecting botocore<1.30.0,>=1.29.0\n",
      "  Using cached botocore-1.29.0-py3-none-any.whl (9.8 MB)\n",
      "Collecting s3transfer<0.7.0,>=0.6.0\n",
      "  Using cached s3transfer-0.6.0-py3-none-any.whl (79 kB)\n",
      "Collecting mpmath>=0.19\n",
      "  Using cached mpmath-1.2.1-py3-none-any.whl (532 kB)\n",
      "Collecting urllib3<1.27,>=1.25.4\n",
      "  Using cached urllib3-1.26.12-py2.py3-none-any.whl (140 kB)\n",
      "Collecting python-dateutil<3.0.0,>=2.1\n",
      "  Using cached python_dateutil-2.8.2-py2.py3-none-any.whl (247 kB)\n",
      "Collecting zipp>=0.5\n",
      "  Using cached zipp-3.10.0-py3-none-any.whl (6.2 kB)\n",
      "Collecting six>=1.5\n",
      "  Using cached six-1.16.0-py2.py3-none-any.whl (11 kB)\n",
      "Installing collected packages: openqasm3, mypy-extensions, mpmath, boltons, antlr4-python3-runtime, zipp, urllib3, sympy, six, pydantic, numpy, networkx, nest-asyncio, jmespath, backoff, python-dateutil, opt-einsum, importlib-metadata, amazon-braket-schemas, botocore, amazon-braket-default-simulator, s3transfer, openpulse, oqpy, boto3, amazon-braket-sdk\n",
      "  Attempting uninstall: pydantic\n",
      "    Found existing installation: pydantic 1.10.2\n",
      "    Uninstalling pydantic-1.10.2:\n",
      "      Successfully uninstalled pydantic-1.10.2\n",
      "  Attempting uninstall: numpy\n",
      "    Found existing installation: numpy 1.23.4\n",
      "    Uninstalling numpy-1.23.4:\n",
      "      Successfully uninstalled numpy-1.23.4\n",
      "Successfully installed amazon-braket-default-simulator-1.10.0 amazon-braket-schemas-1.12.0 amazon-braket-sdk-1.33.0 antlr4-python3-runtime-4.9.2 backoff-2.2.1 boltons-21.0.0 boto3-1.26.0 botocore-1.29.0 importlib-metadata-5.0.0 jmespath-1.0.1 mpmath-1.2.1 mypy-extensions-0.4.3 nest-asyncio-1.5.6 networkx-2.8.8 numpy-1.21.6 openpulse-0.4.0 openqasm3-0.4.0 opt-einsum-3.3.0 oqpy-0.1.0 pydantic-1.9.0 python-dateutil-2.8.2 s3transfer-0.6.0 six-1.16.0 sympy-1.11.1 urllib3-1.26.12 zipp-3.10.0\n"
     ]
    }
   ],
   "source": [
    "using PyBraket "
   ]
  },
  {
   "cell_type": "code",
   "execution_count": 5,
   "id": "acaf4ce4",
   "metadata": {},
   "outputs": [
    {
     "data": {
      "text/plain": [
       "LocalSimulator(<py braket.devices.local_simulator.LocalSimulator object at 0x1512ea2e0>)"
      ]
     },
     "execution_count": 5,
     "metadata": {},
     "output_type": "execute_result"
    }
   ],
   "source": [
    "device = LocalSimulator(\"braket_ahs\") "
   ]
  },
  {
   "cell_type": "code",
   "execution_count": 6,
   "id": "2813ce87",
   "metadata": {},
   "outputs": [
    {
     "data": {
      "text/plain": [
       "get_counts (generic function with 1 method)"
      ]
     },
     "execution_count": 6,
     "metadata": {},
     "output_type": "execute_result"
    }
   ],
   "source": [
    "function get_counts(result)\n",
    "    state_counts = Accumulator{String, Int}()\n",
    "    states = [\"e\", \"r\", \"g\"]\n",
    "    for shot in result.measurements\n",
    "        pre       = convert(Vector{Int}, shot.pre_sequence)\n",
    "        post      = convert(Vector{Int}, shot.post_sequence)\n",
    "        state_idx = (pre .* (1 .+ post)) .+ 1\n",
    "        state     = prod([states[s_idx] for s_idx in state_idx])\n",
    "        inc!(state_counts, state)\n",
    "    end\n",
    "    return state_counts\n",
    "end\n"
   ]
  },
  {
   "cell_type": "markdown",
   "id": "e2462556",
   "metadata": {},
   "source": [
    "# Define driving field and ahs program\n"
   ]
  },
  {
   "cell_type": "code",
   "execution_count": 7,
   "id": "cbf1d4e6",
   "metadata": {},
   "outputs": [
    {
     "data": {
      "text/plain": [
       "20-element Vector{AnalogHamiltonianSimulation}:\n",
       " AnalogHamiltonianSimulation(AtomArrangementItem[AtomArrangementItem((0.0, 0.0), filled)], DrivingField[DrivingField(Field(TimeSeries(OrderedDict{Number, TimeSeriesItem}(0.0 => TimeSeriesItem(0.0, 0.0), 2.5132741228718345e-7 => TimeSeriesItem(2.5132741228718345e-7, 2.5e6)), true, -1), nothing), Field(TimeSeries(OrderedDict{Number, TimeSeriesItem}(0.0 => TimeSeriesItem(0.0, 0.0), 2.5132741228718345e-7 => TimeSeriesItem(2.5132741228718345e-7, 0.0)), true, -1), nothing), Field(TimeSeries(OrderedDict{Number, TimeSeriesItem}(0.0 => TimeSeriesItem(0.0, 0.0), 2.5132741228718345e-7 => TimeSeriesItem(2.5132741228718345e-7, 0.0)), true, -1), nothing))])\n",
       " AnalogHamiltonianSimulation(AtomArrangementItem[AtomArrangementItem((0.0, 0.0), filled)], DrivingField[DrivingField(Field(TimeSeries(OrderedDict{Number, TimeSeriesItem}(0.0 => TimeSeriesItem(0.0, 0.0), 5.026548245743669e-7 => TimeSeriesItem(5.026548245743669e-7, 2.5e6)), true, -1), nothing), Field(TimeSeries(OrderedDict{Number, TimeSeriesItem}(0.0 => TimeSeriesItem(0.0, 0.0), 5.026548245743669e-7 => TimeSeriesItem(5.026548245743669e-7, 0.0)), true, -1), nothing), Field(TimeSeries(OrderedDict{Number, TimeSeriesItem}(0.0 => TimeSeriesItem(0.0, 0.0), 5.026548245743669e-7 => TimeSeriesItem(5.026548245743669e-7, 0.0)), true, -1), nothing))])\n",
       " AnalogHamiltonianSimulation(AtomArrangementItem[AtomArrangementItem((0.0, 0.0), filled)], DrivingField[DrivingField(Field(TimeSeries(OrderedDict{Number, TimeSeriesItem}(0.0 => TimeSeriesItem(0.0, 0.0), 7.539822368615504e-7 => TimeSeriesItem(7.539822368615504e-7, 2.5e6)), true, -1), nothing), Field(TimeSeries(OrderedDict{Number, TimeSeriesItem}(0.0 => TimeSeriesItem(0.0, 0.0), 7.539822368615504e-7 => TimeSeriesItem(7.539822368615504e-7, 0.0)), true, -1), nothing), Field(TimeSeries(OrderedDict{Number, TimeSeriesItem}(0.0 => TimeSeriesItem(0.0, 0.0), 7.539822368615504e-7 => TimeSeriesItem(7.539822368615504e-7, 0.0)), true, -1), nothing))])\n",
       " AnalogHamiltonianSimulation(AtomArrangementItem[AtomArrangementItem((0.0, 0.0), filled)], DrivingField[DrivingField(Field(TimeSeries(OrderedDict{Number, TimeSeriesItem}(0.0 => TimeSeriesItem(0.0, 0.0), 1.0053096491487338e-6 => TimeSeriesItem(1.0053096491487338e-6, 2.5e6)), true, -1), nothing), Field(TimeSeries(OrderedDict{Number, TimeSeriesItem}(0.0 => TimeSeriesItem(0.0, 0.0), 1.0053096491487338e-6 => TimeSeriesItem(1.0053096491487338e-6, 0.0)), true, -1), nothing), Field(TimeSeries(OrderedDict{Number, TimeSeriesItem}(0.0 => TimeSeriesItem(0.0, 0.0), 1.0053096491487338e-6 => TimeSeriesItem(1.0053096491487338e-6, 0.0)), true, -1), nothing))])\n",
       " AnalogHamiltonianSimulation(AtomArrangementItem[AtomArrangementItem((0.0, 0.0), filled)], DrivingField[DrivingField(Field(TimeSeries(OrderedDict{Number, TimeSeriesItem}(0.0 => TimeSeriesItem(0.0, 0.0), 1.2566370614359173e-6 => TimeSeriesItem(1.2566370614359173e-6, 2.5e6)), true, -1), nothing), Field(TimeSeries(OrderedDict{Number, TimeSeriesItem}(0.0 => TimeSeriesItem(0.0, 0.0), 1.2566370614359173e-6 => TimeSeriesItem(1.2566370614359173e-6, 0.0)), true, -1), nothing), Field(TimeSeries(OrderedDict{Number, TimeSeriesItem}(0.0 => TimeSeriesItem(0.0, 0.0), 1.2566370614359173e-6 => TimeSeriesItem(1.2566370614359173e-6, 0.0)), true, -1), nothing))])\n",
       " AnalogHamiltonianSimulation(AtomArrangementItem[AtomArrangementItem((0.0, 0.0), filled)], DrivingField[DrivingField(Field(TimeSeries(OrderedDict{Number, TimeSeriesItem}(0.0 => TimeSeriesItem(0.0, 0.0), 1.5079644737231008e-6 => TimeSeriesItem(1.5079644737231008e-6, 2.5e6)), true, -1), nothing), Field(TimeSeries(OrderedDict{Number, TimeSeriesItem}(0.0 => TimeSeriesItem(0.0, 0.0), 1.5079644737231008e-6 => TimeSeriesItem(1.5079644737231008e-6, 0.0)), true, -1), nothing), Field(TimeSeries(OrderedDict{Number, TimeSeriesItem}(0.0 => TimeSeriesItem(0.0, 0.0), 1.5079644737231008e-6 => TimeSeriesItem(1.5079644737231008e-6, 0.0)), true, -1), nothing))])\n",
       " AnalogHamiltonianSimulation(AtomArrangementItem[AtomArrangementItem((0.0, 0.0), filled)], DrivingField[DrivingField(Field(TimeSeries(OrderedDict{Number, TimeSeriesItem}(0.0 => TimeSeriesItem(0.0, 0.0), 1.7592918860102843e-6 => TimeSeriesItem(1.7592918860102843e-6, 2.5e6)), true, -1), nothing), Field(TimeSeries(OrderedDict{Number, TimeSeriesItem}(0.0 => TimeSeriesItem(0.0, 0.0), 1.7592918860102843e-6 => TimeSeriesItem(1.7592918860102843e-6, 0.0)), true, -1), nothing), Field(TimeSeries(OrderedDict{Number, TimeSeriesItem}(0.0 => TimeSeriesItem(0.0, 0.0), 1.7592918860102843e-6 => TimeSeriesItem(1.7592918860102843e-6, 0.0)), true, -1), nothing))])\n",
       " AnalogHamiltonianSimulation(AtomArrangementItem[AtomArrangementItem((0.0, 0.0), filled)], DrivingField[DrivingField(Field(TimeSeries(OrderedDict{Number, TimeSeriesItem}(0.0 => TimeSeriesItem(0.0, 0.0), 2.0106192982974676e-6 => TimeSeriesItem(2.0106192982974676e-6, 2.5e6)), true, -1), nothing), Field(TimeSeries(OrderedDict{Number, TimeSeriesItem}(0.0 => TimeSeriesItem(0.0, 0.0), 2.0106192982974676e-6 => TimeSeriesItem(2.0106192982974676e-6, 0.0)), true, -1), nothing), Field(TimeSeries(OrderedDict{Number, TimeSeriesItem}(0.0 => TimeSeriesItem(0.0, 0.0), 2.0106192982974676e-6 => TimeSeriesItem(2.0106192982974676e-6, 0.0)), true, -1), nothing))])\n",
       " AnalogHamiltonianSimulation(AtomArrangementItem[AtomArrangementItem((0.0, 0.0), filled)], DrivingField[DrivingField(Field(TimeSeries(OrderedDict{Number, TimeSeriesItem}(0.0 => TimeSeriesItem(0.0, 0.0), 2.261946710584651e-6 => TimeSeriesItem(2.261946710584651e-6, 2.5e6)), true, -1), nothing), Field(TimeSeries(OrderedDict{Number, TimeSeriesItem}(0.0 => TimeSeriesItem(0.0, 0.0), 2.261946710584651e-6 => TimeSeriesItem(2.261946710584651e-6, 0.0)), true, -1), nothing), Field(TimeSeries(OrderedDict{Number, TimeSeriesItem}(0.0 => TimeSeriesItem(0.0, 0.0), 2.261946710584651e-6 => TimeSeriesItem(2.261946710584651e-6, 0.0)), true, -1), nothing))])\n",
       " AnalogHamiltonianSimulation(AtomArrangementItem[AtomArrangementItem((0.0, 0.0), filled)], DrivingField[DrivingField(Field(TimeSeries(OrderedDict{Number, TimeSeriesItem}(0.0 => TimeSeriesItem(0.0, 0.0), 2.5132741228718346e-6 => TimeSeriesItem(2.5132741228718346e-6, 2.5e6)), true, -1), nothing), Field(TimeSeries(OrderedDict{Number, TimeSeriesItem}(0.0 => TimeSeriesItem(0.0, 0.0), 2.5132741228718346e-6 => TimeSeriesItem(2.5132741228718346e-6, 0.0)), true, -1), nothing), Field(TimeSeries(OrderedDict{Number, TimeSeriesItem}(0.0 => TimeSeriesItem(0.0, 0.0), 2.5132741228718346e-6 => TimeSeriesItem(2.5132741228718346e-6, 0.0)), true, -1), nothing))])\n",
       " AnalogHamiltonianSimulation(AtomArrangementItem[AtomArrangementItem((0.0, 0.0), filled)], DrivingField[DrivingField(Field(TimeSeries(OrderedDict{Number, TimeSeriesItem}(0.0 => TimeSeriesItem(0.0, 0.0), 2.764601535159018e-6 => TimeSeriesItem(2.764601535159018e-6, 2.5e6)), true, -1), nothing), Field(TimeSeries(OrderedDict{Number, TimeSeriesItem}(0.0 => TimeSeriesItem(0.0, 0.0), 2.764601535159018e-6 => TimeSeriesItem(2.764601535159018e-6, 0.0)), true, -1), nothing), Field(TimeSeries(OrderedDict{Number, TimeSeriesItem}(0.0 => TimeSeriesItem(0.0, 0.0), 2.764601535159018e-6 => TimeSeriesItem(2.764601535159018e-6, 0.0)), true, -1), nothing))])\n",
       " AnalogHamiltonianSimulation(AtomArrangementItem[AtomArrangementItem((0.0, 0.0), filled)], DrivingField[DrivingField(Field(TimeSeries(OrderedDict{Number, TimeSeriesItem}(0.0 => TimeSeriesItem(0.0, 0.0), 3.0159289474462016e-6 => TimeSeriesItem(3.0159289474462016e-6, 2.5e6)), true, -1), nothing), Field(TimeSeries(OrderedDict{Number, TimeSeriesItem}(0.0 => TimeSeriesItem(0.0, 0.0), 3.0159289474462016e-6 => TimeSeriesItem(3.0159289474462016e-6, 0.0)), true, -1), nothing), Field(TimeSeries(OrderedDict{Number, TimeSeriesItem}(0.0 => TimeSeriesItem(0.0, 0.0), 3.0159289474462016e-6 => TimeSeriesItem(3.0159289474462016e-6, 0.0)), true, -1), nothing))])\n",
       " AnalogHamiltonianSimulation(AtomArrangementItem[AtomArrangementItem((0.0, 0.0), filled)], DrivingField[DrivingField(Field(TimeSeries(OrderedDict{Number, TimeSeriesItem}(0.0 => TimeSeriesItem(0.0, 0.0), 3.267256359733385e-6 => TimeSeriesItem(3.267256359733385e-6, 2.5e6)), true, -1), nothing), Field(TimeSeries(OrderedDict{Number, TimeSeriesItem}(0.0 => TimeSeriesItem(0.0, 0.0), 3.267256359733385e-6 => TimeSeriesItem(3.267256359733385e-6, 0.0)), true, -1), nothing), Field(TimeSeries(OrderedDict{Number, TimeSeriesItem}(0.0 => TimeSeriesItem(0.0, 0.0), 3.267256359733385e-6 => TimeSeriesItem(3.267256359733385e-6, 0.0)), true, -1), nothing))])\n",
       " AnalogHamiltonianSimulation(AtomArrangementItem[AtomArrangementItem((0.0, 0.0), filled)], DrivingField[DrivingField(Field(TimeSeries(OrderedDict{Number, TimeSeriesItem}(0.0 => TimeSeriesItem(0.0, 0.0), 3.5185837720205686e-6 => TimeSeriesItem(3.5185837720205686e-6, 2.5e6)), true, -1), nothing), Field(TimeSeries(OrderedDict{Number, TimeSeriesItem}(0.0 => TimeSeriesItem(0.0, 0.0), 3.5185837720205686e-6 => TimeSeriesItem(3.5185837720205686e-6, 0.0)), true, -1), nothing), Field(TimeSeries(OrderedDict{Number, TimeSeriesItem}(0.0 => TimeSeriesItem(0.0, 0.0), 3.5185837720205686e-6 => TimeSeriesItem(3.5185837720205686e-6, 0.0)), true, -1), nothing))])\n",
       " AnalogHamiltonianSimulation(AtomArrangementItem[AtomArrangementItem((0.0, 0.0), filled)], DrivingField[DrivingField(Field(TimeSeries(OrderedDict{Number, TimeSeriesItem}(0.0 => TimeSeriesItem(0.0, 0.0), 3.769911184307752e-6 => TimeSeriesItem(3.769911184307752e-6, 2.5e6)), true, -1), nothing), Field(TimeSeries(OrderedDict{Number, TimeSeriesItem}(0.0 => TimeSeriesItem(0.0, 0.0), 3.769911184307752e-6 => TimeSeriesItem(3.769911184307752e-6, 0.0)), true, -1), nothing), Field(TimeSeries(OrderedDict{Number, TimeSeriesItem}(0.0 => TimeSeriesItem(0.0, 0.0), 3.769911184307752e-6 => TimeSeriesItem(3.769911184307752e-6, 0.0)), true, -1), nothing))])\n",
       " AnalogHamiltonianSimulation(AtomArrangementItem[AtomArrangementItem((0.0, 0.0), filled)], DrivingField[DrivingField(Field(TimeSeries(OrderedDict{Number, TimeSeriesItem}(0.0 => TimeSeriesItem(0.0, 0.0), 4.021238596594935e-6 => TimeSeriesItem(4.021238596594935e-6, 2.5e6)), true, -1), nothing), Field(TimeSeries(OrderedDict{Number, TimeSeriesItem}(0.0 => TimeSeriesItem(0.0, 0.0), 4.021238596594935e-6 => TimeSeriesItem(4.021238596594935e-6, 0.0)), true, -1), nothing), Field(TimeSeries(OrderedDict{Number, TimeSeriesItem}(0.0 => TimeSeriesItem(0.0, 0.0), 4.021238596594935e-6 => TimeSeriesItem(4.021238596594935e-6, 0.0)), true, -1), nothing))])\n",
       " AnalogHamiltonianSimulation(AtomArrangementItem[AtomArrangementItem((0.0, 0.0), filled)], DrivingField[DrivingField(Field(TimeSeries(OrderedDict{Number, TimeSeriesItem}(0.0 => TimeSeriesItem(0.0, 0.0), 4.272566008882119e-6 => TimeSeriesItem(4.272566008882119e-6, 2.5e6)), true, -1), nothing), Field(TimeSeries(OrderedDict{Number, TimeSeriesItem}(0.0 => TimeSeriesItem(0.0, 0.0), 4.272566008882119e-6 => TimeSeriesItem(4.272566008882119e-6, 0.0)), true, -1), nothing), Field(TimeSeries(OrderedDict{Number, TimeSeriesItem}(0.0 => TimeSeriesItem(0.0, 0.0), 4.272566008882119e-6 => TimeSeriesItem(4.272566008882119e-6, 0.0)), true, -1), nothing))])\n",
       " AnalogHamiltonianSimulation(AtomArrangementItem[AtomArrangementItem((0.0, 0.0), filled)], DrivingField[DrivingField(Field(TimeSeries(OrderedDict{Number, TimeSeriesItem}(0.0 => TimeSeriesItem(0.0, 0.0), 4.523893421169302e-6 => TimeSeriesItem(4.523893421169302e-6, 2.5e6)), true, -1), nothing), Field(TimeSeries(OrderedDict{Number, TimeSeriesItem}(0.0 => TimeSeriesItem(0.0, 0.0), 4.523893421169302e-6 => TimeSeriesItem(4.523893421169302e-6, 0.0)), true, -1), nothing), Field(TimeSeries(OrderedDict{Number, TimeSeriesItem}(0.0 => TimeSeriesItem(0.0, 0.0), 4.523893421169302e-6 => TimeSeriesItem(4.523893421169302e-6, 0.0)), true, -1), nothing))])\n",
       " AnalogHamiltonianSimulation(AtomArrangementItem[AtomArrangementItem((0.0, 0.0), filled)], DrivingField[DrivingField(Field(TimeSeries(OrderedDict{Number, TimeSeriesItem}(0.0 => TimeSeriesItem(0.0, 0.0), 4.775220833456486e-6 => TimeSeriesItem(4.775220833456486e-6, 2.5e6)), true, -1), nothing), Field(TimeSeries(OrderedDict{Number, TimeSeriesItem}(0.0 => TimeSeriesItem(0.0, 0.0), 4.775220833456486e-6 => TimeSeriesItem(4.775220833456486e-6, 0.0)), true, -1), nothing), Field(TimeSeries(OrderedDict{Number, TimeSeriesItem}(0.0 => TimeSeriesItem(0.0, 0.0), 4.775220833456486e-6 => TimeSeriesItem(4.775220833456486e-6, 0.0)), true, -1), nothing))])\n",
       " AnalogHamiltonianSimulation(AtomArrangementItem[AtomArrangementItem((0.0, 0.0), filled)], DrivingField[DrivingField(Field(TimeSeries(OrderedDict{Number, TimeSeriesItem}(0.0 => TimeSeriesItem(0.0, 0.0), 5.026548245743669e-6 => TimeSeriesItem(5.026548245743669e-6, 2.5e6)), true, -1), nothing), Field(TimeSeries(OrderedDict{Number, TimeSeriesItem}(0.0 => TimeSeriesItem(0.0, 0.0), 5.026548245743669e-6 => TimeSeriesItem(5.026548245743669e-6, 0.0)), true, -1), nothing), Field(TimeSeries(OrderedDict{Number, TimeSeriesItem}(0.0 => TimeSeriesItem(0.0, 0.0), 5.026548245743669e-6 => TimeSeriesItem(5.026548245743669e-6, 0.0)), true, -1), nothing))])"
      ]
     },
     "execution_count": 7,
     "metadata": {},
     "output_type": "execute_result"
    }
   ],
   "source": [
    "Ω_max = 2.5e6\n",
    "trange = range(0, 4π/(Ω_max), 21)[2:end]\n",
    "\n",
    "function get_program(t_max)\n",
    "\n",
    "    Ω = TimeSeries()\n",
    "    Ω[0.0] = 0.0\n",
    "    Ω[t_max] = Ω_max\n",
    "\n",
    "    ϕ = TimeSeries()\n",
    "    ϕ[0.0] = 0.0\n",
    "    ϕ[t_max] = 0.0\n",
    "\n",
    "    Δ = TimeSeries()\n",
    "    Δ[0.0] = 0.0\n",
    "    Δ[t_max] = 0.0\n",
    "\n",
    "    drive = DrivingField(Ω, ϕ, Δ)\n",
    "\n",
    "    return AnalogHamiltonianSimulation(register, drive)    \n",
    "end\n",
    "\n",
    "programs = [get_program(t) for t in trange]"
   ]
  },
  {
   "cell_type": "code",
   "execution_count": 8,
   "id": "843e2019",
   "metadata": {
    "scrolled": true
   },
   "outputs": [
    {
     "name": "stderr",
     "output_type": "stream",
     "text": [
      "/Users/maolinml/Documents/Braket/braket-jl/examples/ahs/.CondaPkg/env/lib/python3.9/site-packages/braket/analog_hamiltonian_simulator/rydberg/validators/times_series.py:39: UserWarning: Max time is 0.00000402123859659493515381544978537498 seconds which is bigger than the typical scale (0.000004 seconds). The time points should  be specified in SI units.\n",
      "  warnings.warn(\n",
      "/Users/maolinml/Documents/Braket/braket-jl/examples/ahs/.CondaPkg/env/lib/python3.9/site-packages/braket/analog_hamiltonian_simulator/rydberg/validators/times_series.py:39: UserWarning: Max time is 0.000004272566008882118653868474600354688 seconds which is bigger than the typical scale (0.000004 seconds). The time points should  be specified in SI units.\n",
      "  warnings.warn(\n",
      "/Users/maolinml/Documents/Braket/braket-jl/examples/ahs/.CondaPkg/env/lib/python3.9/site-packages/braket/analog_hamiltonian_simulator/rydberg/validators/times_series.py:39: UserWarning: Max time is 0.000004523893421169302153921499415334395 seconds which is bigger than the typical scale (0.000004 seconds). The time points should  be specified in SI units.\n",
      "  warnings.warn(\n",
      "/Users/maolinml/Documents/Braket/braket-jl/examples/ahs/.CondaPkg/env/lib/python3.9/site-packages/braket/analog_hamiltonian_simulator/rydberg/validators/times_series.py:39: UserWarning: Max time is 0.000004775220833456485653974524230314103 seconds which is bigger than the typical scale (0.000004 seconds). The time points should  be specified in SI units.\n",
      "  warnings.warn(\n",
      "/Users/maolinml/Documents/Braket/braket-jl/examples/ahs/.CondaPkg/env/lib/python3.9/site-packages/braket/analog_hamiltonian_simulator/rydberg/validators/times_series.py:39: UserWarning: Max time is 0.00000502654824574366915402754904529381 seconds which is bigger than the typical scale (0.000004 seconds). The time points should  be specified in SI units.\n",
      "  warnings.warn(\n"
     ]
    },
    {
     "data": {
      "text/plain": [
       "20-element Vector{Braket.AnalogHamiltonianSimulationQuantumTaskResult}:\n",
       " AnalogHamiltonianSimulationQuantumTaskResult\n",
       "\n",
       " AnalogHamiltonianSimulationQuantumTaskResult\n",
       "\n",
       " AnalogHamiltonianSimulationQuantumTaskResult\n",
       "\n",
       " AnalogHamiltonianSimulationQuantumTaskResult\n",
       "\n",
       " AnalogHamiltonianSimulationQuantumTaskResult\n",
       "\n",
       " AnalogHamiltonianSimulationQuantumTaskResult\n",
       "\n",
       " AnalogHamiltonianSimulationQuantumTaskResult\n",
       "\n",
       " AnalogHamiltonianSimulationQuantumTaskResult\n",
       "\n",
       " AnalogHamiltonianSimulationQuantumTaskResult\n",
       "\n",
       " AnalogHamiltonianSimulationQuantumTaskResult\n",
       "\n",
       " AnalogHamiltonianSimulationQuantumTaskResult\n",
       "\n",
       " AnalogHamiltonianSimulationQuantumTaskResult\n",
       "\n",
       " AnalogHamiltonianSimulationQuantumTaskResult\n",
       "\n",
       " AnalogHamiltonianSimulationQuantumTaskResult\n",
       "\n",
       " AnalogHamiltonianSimulationQuantumTaskResult\n",
       "\n",
       " AnalogHamiltonianSimulationQuantumTaskResult\n",
       "\n",
       " AnalogHamiltonianSimulationQuantumTaskResult\n",
       "\n",
       " AnalogHamiltonianSimulationQuantumTaskResult\n",
       "\n",
       " AnalogHamiltonianSimulationQuantumTaskResult\n",
       "\n",
       " AnalogHamiltonianSimulationQuantumTaskResult\n"
      ]
     },
     "execution_count": 8,
     "metadata": {},
     "output_type": "execute_result"
    }
   ],
   "source": [
    "local_results = [result(run(device, program, shots=1000)) for program in programs]"
   ]
  },
  {
   "cell_type": "code",
   "execution_count": 9,
   "id": "19cbd59c",
   "metadata": {},
   "outputs": [
    {
     "data": {
      "text/plain": [
       "20-element Vector{Accumulator{String, Int64}}:\n",
       " Accumulator(g => 972, r => 28)\n",
       " Accumulator(g => 892, r => 108)\n",
       " Accumulator(g => 783, r => 217)\n",
       " Accumulator(g => 643, r => 357)\n",
       " Accumulator(g => 516, r => 484)\n",
       " Accumulator(g => 330, r => 670)\n",
       " Accumulator(g => 214, r => 786)\n",
       " Accumulator(g => 100, r => 900)\n",
       " Accumulator(g => 22, r => 978)\n",
       " Accumulator(r => 1000)\n",
       " Accumulator(g => 9, r => 991)\n",
       " Accumulator(g => 84, r => 916)\n",
       " Accumulator(g => 203, r => 797)\n",
       " Accumulator(g => 324, r => 676)\n",
       " Accumulator(g => 474, r => 526)\n",
       " Accumulator(g => 630, r => 370)\n",
       " Accumulator(g => 777, r => 223)\n",
       " Accumulator(g => 897, r => 103)\n",
       " Accumulator(g => 960, r => 40)\n",
       " Accumulator(g => 1000)"
      ]
     },
     "execution_count": 9,
     "metadata": {},
     "output_type": "execute_result"
    }
   ],
   "source": [
    "state_counts = [get_counts(local_result) for local_result in local_results]"
   ]
  },
  {
   "cell_type": "code",
   "execution_count": 10,
   "id": "5a849b9d",
   "metadata": {},
   "outputs": [],
   "source": [
    "using Plots"
   ]
  },
  {
   "cell_type": "code",
   "execution_count": 11,
   "id": "9828f166",
   "metadata": {},
   "outputs": [
    {
     "data": {
      "image/svg+xml": [
       "<?xml version=\"1.0\" encoding=\"utf-8\"?>\n",
       "<svg xmlns=\"http://www.w3.org/2000/svg\" xmlns:xlink=\"http://www.w3.org/1999/xlink\" width=\"600\" height=\"400\" viewBox=\"0 0 2400 1600\">\n",
       "<defs>\n",
       "  <clipPath id=\"clip890\">\n",
       "    <rect x=\"0\" y=\"0\" width=\"2400\" height=\"1600\"/>\n",
       "  </clipPath>\n",
       "</defs>\n",
       "<path clip-path=\"url(#clip890)\" d=\"\n",
       "M0 1600 L2400 1600 L2400 0 L0 0  Z\n",
       "  \" fill=\"#ffffff\" fill-rule=\"evenodd\" fill-opacity=\"1\"/>\n",
       "<defs>\n",
       "  <clipPath id=\"clip891\">\n",
       "    <rect x=\"480\" y=\"0\" width=\"1681\" height=\"1600\"/>\n",
       "  </clipPath>\n",
       "</defs>\n",
       "<path clip-path=\"url(#clip890)\" d=\"\n",
       "M199.283 1474.16 L2352.76 1474.16 L2352.76 47.2441 L199.283 47.2441  Z\n",
       "  \" fill=\"#ffffff\" fill-rule=\"evenodd\" fill-opacity=\"1\"/>\n",
       "<defs>\n",
       "  <clipPath id=\"clip892\">\n",
       "    <rect x=\"199\" y=\"47\" width=\"2154\" height=\"1428\"/>\n",
       "  </clipPath>\n",
       "</defs>\n",
       "<polyline clip-path=\"url(#clip892)\" style=\"stroke:#000000; stroke-linecap:round; stroke-linejoin:round; stroke-width:2; stroke-opacity:0.1; fill:none\" points=\"\n",
       "  578.747,1474.16 578.747,47.2441 \n",
       "  \"/>\n",
       "<polyline clip-path=\"url(#clip892)\" style=\"stroke:#000000; stroke-linecap:round; stroke-linejoin:round; stroke-width:2; stroke-opacity:0.1; fill:none\" points=\"\n",
       "  1004.19,1474.16 1004.19,47.2441 \n",
       "  \"/>\n",
       "<polyline clip-path=\"url(#clip892)\" style=\"stroke:#000000; stroke-linecap:round; stroke-linejoin:round; stroke-width:2; stroke-opacity:0.1; fill:none\" points=\"\n",
       "  1429.63,1474.16 1429.63,47.2441 \n",
       "  \"/>\n",
       "<polyline clip-path=\"url(#clip892)\" style=\"stroke:#000000; stroke-linecap:round; stroke-linejoin:round; stroke-width:2; stroke-opacity:0.1; fill:none\" points=\"\n",
       "  1855.07,1474.16 1855.07,47.2441 \n",
       "  \"/>\n",
       "<polyline clip-path=\"url(#clip892)\" style=\"stroke:#000000; stroke-linecap:round; stroke-linejoin:round; stroke-width:2; stroke-opacity:0.1; fill:none\" points=\"\n",
       "  2280.51,1474.16 2280.51,47.2441 \n",
       "  \"/>\n",
       "<polyline clip-path=\"url(#clip890)\" style=\"stroke:#000000; stroke-linecap:round; stroke-linejoin:round; stroke-width:4; stroke-opacity:1; fill:none\" points=\"\n",
       "  199.283,1474.16 2352.76,1474.16 \n",
       "  \"/>\n",
       "<polyline clip-path=\"url(#clip890)\" style=\"stroke:#000000; stroke-linecap:round; stroke-linejoin:round; stroke-width:4; stroke-opacity:1; fill:none\" points=\"\n",
       "  578.747,1474.16 578.747,1455.27 \n",
       "  \"/>\n",
       "<polyline clip-path=\"url(#clip890)\" style=\"stroke:#000000; stroke-linecap:round; stroke-linejoin:round; stroke-width:4; stroke-opacity:1; fill:none\" points=\"\n",
       "  1004.19,1474.16 1004.19,1455.27 \n",
       "  \"/>\n",
       "<polyline clip-path=\"url(#clip890)\" style=\"stroke:#000000; stroke-linecap:round; stroke-linejoin:round; stroke-width:4; stroke-opacity:1; fill:none\" points=\"\n",
       "  1429.63,1474.16 1429.63,1455.27 \n",
       "  \"/>\n",
       "<polyline clip-path=\"url(#clip890)\" style=\"stroke:#000000; stroke-linecap:round; stroke-linejoin:round; stroke-width:4; stroke-opacity:1; fill:none\" points=\"\n",
       "  1855.07,1474.16 1855.07,1455.27 \n",
       "  \"/>\n",
       "<polyline clip-path=\"url(#clip890)\" style=\"stroke:#000000; stroke-linecap:round; stroke-linejoin:round; stroke-width:4; stroke-opacity:1; fill:none\" points=\"\n",
       "  2280.51,1474.16 2280.51,1455.27 \n",
       "  \"/>\n",
       "<path clip-path=\"url(#clip890)\" d=\"M470.741 1548.29 L478.379 1548.29 L478.379 1521.92 L470.069 1523.59 L470.069 1519.33 L478.333 1517.66 L483.009 1517.66 L483.009 1548.29 L490.648 1548.29 L490.648 1552.22 L470.741 1552.22 L470.741 1548.29 Z\" fill=\"#000000\" fill-rule=\"evenodd\" fill-opacity=\"1\" /><path clip-path=\"url(#clip890)\" d=\"M500.092 1546.35 L504.976 1546.35 L504.976 1552.22 L500.092 1552.22 L500.092 1546.35 Z\" fill=\"#000000\" fill-rule=\"evenodd\" fill-opacity=\"1\" /><path clip-path=\"url(#clip890)\" d=\"M525.162 1520.74 Q521.55 1520.74 519.722 1524.31 Q517.916 1527.85 517.916 1534.98 Q517.916 1542.09 519.722 1545.65 Q521.55 1549.19 525.162 1549.19 Q528.796 1549.19 530.601 1545.65 Q532.43 1542.09 532.43 1534.98 Q532.43 1527.85 530.601 1524.31 Q528.796 1520.74 525.162 1520.74 M525.162 1517.04 Q530.972 1517.04 534.027 1521.65 Q537.106 1526.23 537.106 1534.98 Q537.106 1543.71 534.027 1548.31 Q530.972 1552.9 525.162 1552.9 Q519.351 1552.9 516.273 1548.31 Q513.217 1543.71 513.217 1534.98 Q513.217 1526.23 516.273 1521.65 Q519.351 1517.04 525.162 1517.04 Z\" fill=\"#000000\" fill-rule=\"evenodd\" fill-opacity=\"1\" /><path clip-path=\"url(#clip890)\" d=\"M573.495 1526.76 L562.916 1537.39 L573.495 1547.97 L570.74 1550.77 L560.115 1540.14 L549.49 1550.77 L546.759 1547.97 L557.314 1537.39 L546.759 1526.76 L549.49 1523.96 L560.115 1534.59 L570.74 1523.96 L573.495 1526.76 Z\" fill=\"#000000\" fill-rule=\"evenodd\" fill-opacity=\"1\" /><path clip-path=\"url(#clip890)\" d=\"M585.856 1548.29 L593.495 1548.29 L593.495 1521.92 L585.184 1523.59 L585.184 1519.33 L593.448 1517.66 L598.124 1517.66 L598.124 1548.29 L605.763 1548.29 L605.763 1552.22 L585.856 1552.22 L585.856 1548.29 Z\" fill=\"#000000\" fill-rule=\"evenodd\" fill-opacity=\"1\" /><path clip-path=\"url(#clip890)\" d=\"M625.207 1520.74 Q621.596 1520.74 619.768 1524.31 Q617.962 1527.85 617.962 1534.98 Q617.962 1542.09 619.768 1545.65 Q621.596 1549.19 625.207 1549.19 Q628.842 1549.19 630.647 1545.65 Q632.476 1542.09 632.476 1534.98 Q632.476 1527.85 630.647 1524.31 Q628.842 1520.74 625.207 1520.74 M625.207 1517.04 Q631.017 1517.04 634.073 1521.65 Q637.152 1526.23 637.152 1534.98 Q637.152 1543.71 634.073 1548.31 Q631.017 1552.9 625.207 1552.9 Q619.397 1552.9 616.318 1548.31 Q613.263 1543.71 613.263 1534.98 Q613.263 1526.23 616.318 1521.65 Q619.397 1517.04 625.207 1517.04 Z\" fill=\"#000000\" fill-rule=\"evenodd\" fill-opacity=\"1\" /><path clip-path=\"url(#clip890)\" d=\"M637.152 1511.14 L661.263 1511.14 L661.263 1514.34 L637.152 1514.34 L637.152 1511.14 Z\" fill=\"#000000\" fill-rule=\"evenodd\" fill-opacity=\"1\" /><path clip-path=\"url(#clip890)\" d=\"M678.059 1509.26 Q675.501 1509.26 673.996 1511.01 Q672.51 1512.76 672.51 1515.81 Q672.51 1518.83 673.996 1520.6 Q675.501 1522.35 678.059 1522.35 Q680.616 1522.35 682.102 1520.6 Q683.607 1518.83 683.607 1515.81 Q683.607 1512.76 682.102 1511.01 Q680.616 1509.26 678.059 1509.26 M685.601 1497.35 L685.601 1500.82 Q684.171 1500.14 682.704 1499.78 Q681.256 1499.42 679.827 1499.42 Q676.065 1499.42 674.071 1501.96 Q672.097 1504.5 671.814 1509.64 Q672.924 1508 674.598 1507.13 Q676.272 1506.25 678.284 1506.25 Q682.516 1506.25 684.961 1508.83 Q687.425 1511.39 687.425 1515.81 Q687.425 1520.13 684.867 1522.75 Q682.309 1525.36 678.059 1525.36 Q673.187 1525.36 670.611 1521.64 Q668.034 1517.89 668.034 1510.8 Q668.034 1504.14 671.194 1500.19 Q674.353 1496.23 679.676 1496.23 Q681.105 1496.23 682.554 1496.51 Q684.021 1496.79 685.601 1497.35 Z\" fill=\"#000000\" fill-rule=\"evenodd\" fill-opacity=\"1\" /><path clip-path=\"url(#clip890)\" d=\"M900.268 1548.29 L916.587 1548.29 L916.587 1552.22 L894.643 1552.22 L894.643 1548.29 Q897.305 1545.53 901.888 1540.91 Q906.495 1536.25 907.675 1534.91 Q909.921 1532.39 910.8 1530.65 Q911.703 1528.89 911.703 1527.2 Q911.703 1524.45 909.759 1522.71 Q907.837 1520.97 904.735 1520.97 Q902.536 1520.97 900.083 1521.74 Q897.652 1522.5 894.874 1524.05 L894.874 1519.33 Q897.698 1518.2 900.152 1517.62 Q902.606 1517.04 904.643 1517.04 Q910.013 1517.04 913.208 1519.72 Q916.402 1522.41 916.402 1526.9 Q916.402 1529.03 915.592 1530.95 Q914.805 1532.85 912.698 1535.44 Q912.12 1536.11 909.018 1539.33 Q905.916 1542.53 900.268 1548.29 Z\" fill=\"#000000\" fill-rule=\"evenodd\" fill-opacity=\"1\" /><path clip-path=\"url(#clip890)\" d=\"M926.402 1546.35 L931.286 1546.35 L931.286 1552.22 L926.402 1552.22 L926.402 1546.35 Z\" fill=\"#000000\" fill-rule=\"evenodd\" fill-opacity=\"1\" /><path clip-path=\"url(#clip890)\" d=\"M951.471 1520.74 Q947.86 1520.74 946.032 1524.31 Q944.226 1527.85 944.226 1534.98 Q944.226 1542.09 946.032 1545.65 Q947.86 1549.19 951.471 1549.19 Q955.106 1549.19 956.911 1545.65 Q958.74 1542.09 958.74 1534.98 Q958.74 1527.85 956.911 1524.31 Q955.106 1520.74 951.471 1520.74 M951.471 1517.04 Q957.281 1517.04 960.337 1521.65 Q963.416 1526.23 963.416 1534.98 Q963.416 1543.71 960.337 1548.31 Q957.281 1552.9 951.471 1552.9 Q945.661 1552.9 942.582 1548.31 Q939.527 1543.71 939.527 1534.98 Q939.527 1526.23 942.582 1521.65 Q945.661 1517.04 951.471 1517.04 Z\" fill=\"#000000\" fill-rule=\"evenodd\" fill-opacity=\"1\" /><path clip-path=\"url(#clip890)\" d=\"M999.804 1526.76 L989.226 1537.39 L999.804 1547.97 L997.05 1550.77 L986.425 1540.14 L975.8 1550.77 L973.068 1547.97 L983.624 1537.39 L973.068 1526.76 L975.8 1523.96 L986.425 1534.59 L997.05 1523.96 L999.804 1526.76 Z\" fill=\"#000000\" fill-rule=\"evenodd\" fill-opacity=\"1\" /><path clip-path=\"url(#clip890)\" d=\"M1012.17 1548.29 L1019.8 1548.29 L1019.8 1521.92 L1011.49 1523.59 L1011.49 1519.33 L1019.76 1517.66 L1024.43 1517.66 L1024.43 1548.29 L1032.07 1548.29 L1032.07 1552.22 L1012.17 1552.22 L1012.17 1548.29 Z\" fill=\"#000000\" fill-rule=\"evenodd\" fill-opacity=\"1\" /><path clip-path=\"url(#clip890)\" d=\"M1051.52 1520.74 Q1047.91 1520.74 1046.08 1524.31 Q1044.27 1527.85 1044.27 1534.98 Q1044.27 1542.09 1046.08 1545.65 Q1047.91 1549.19 1051.52 1549.19 Q1055.15 1549.19 1056.96 1545.65 Q1058.79 1542.09 1058.79 1534.98 Q1058.79 1527.85 1056.96 1524.31 Q1055.15 1520.74 1051.52 1520.74 M1051.52 1517.04 Q1057.33 1517.04 1060.38 1521.65 Q1063.46 1526.23 1063.46 1534.98 Q1063.46 1543.71 1060.38 1548.31 Q1057.33 1552.9 1051.52 1552.9 Q1045.71 1552.9 1042.63 1548.31 Q1039.57 1543.71 1039.57 1534.98 Q1039.57 1526.23 1042.63 1521.65 Q1045.71 1517.04 1051.52 1517.04 Z\" fill=\"#000000\" fill-rule=\"evenodd\" fill-opacity=\"1\" /><path clip-path=\"url(#clip890)\" d=\"M1063.46 1511.14 L1087.57 1511.14 L1087.57 1514.34 L1063.46 1514.34 L1063.46 1511.14 Z\" fill=\"#000000\" fill-rule=\"evenodd\" fill-opacity=\"1\" /><path clip-path=\"url(#clip890)\" d=\"M1104.37 1509.26 Q1101.81 1509.26 1100.31 1511.01 Q1098.82 1512.76 1098.82 1515.81 Q1098.82 1518.83 1100.31 1520.6 Q1101.81 1522.35 1104.37 1522.35 Q1106.93 1522.35 1108.41 1520.6 Q1109.92 1518.83 1109.92 1515.81 Q1109.92 1512.76 1108.41 1511.01 Q1106.93 1509.26 1104.37 1509.26 M1111.91 1497.35 L1111.91 1500.82 Q1110.48 1500.14 1109.01 1499.78 Q1107.57 1499.42 1106.14 1499.42 Q1102.37 1499.42 1100.38 1501.96 Q1098.41 1504.5 1098.12 1509.64 Q1099.23 1508 1100.91 1507.13 Q1102.58 1506.25 1104.59 1506.25 Q1108.83 1506.25 1111.27 1508.83 Q1113.73 1511.39 1113.73 1515.81 Q1113.73 1520.13 1111.18 1522.75 Q1108.62 1525.36 1104.37 1525.36 Q1099.5 1525.36 1096.92 1521.64 Q1094.34 1517.89 1094.34 1510.8 Q1094.34 1504.14 1097.5 1500.19 Q1100.66 1496.23 1105.99 1496.23 Q1107.42 1496.23 1108.86 1496.51 Q1110.33 1496.79 1111.91 1497.35 Z\" fill=\"#000000\" fill-rule=\"evenodd\" fill-opacity=\"1\" /><path clip-path=\"url(#clip890)\" d=\"M1335.78 1533.59 Q1339.14 1534.31 1341.01 1536.58 Q1342.91 1538.85 1342.91 1542.18 Q1342.91 1547.29 1339.39 1550.1 Q1335.87 1552.9 1329.39 1552.9 Q1327.21 1552.9 1324.9 1552.46 Q1322.61 1552.04 1320.15 1551.18 L1320.15 1546.67 Q1322.1 1547.8 1324.41 1548.38 Q1326.73 1548.96 1329.25 1548.96 Q1333.65 1548.96 1335.94 1547.22 Q1338.26 1545.49 1338.26 1542.18 Q1338.26 1539.12 1336.1 1537.41 Q1333.97 1535.67 1330.15 1535.67 L1326.13 1535.67 L1326.13 1531.83 L1330.34 1531.83 Q1333.79 1531.83 1335.62 1530.47 Q1337.45 1529.08 1337.45 1526.48 Q1337.45 1523.82 1335.55 1522.41 Q1333.67 1520.97 1330.15 1520.97 Q1328.23 1520.97 1326.03 1521.39 Q1323.83 1521.81 1321.2 1522.69 L1321.2 1518.52 Q1323.86 1517.78 1326.17 1517.41 Q1328.51 1517.04 1330.57 1517.04 Q1335.89 1517.04 1339 1519.47 Q1342.1 1521.88 1342.1 1526 Q1342.1 1528.87 1340.45 1530.86 Q1338.81 1532.83 1335.78 1533.59 Z\" fill=\"#000000\" fill-rule=\"evenodd\" fill-opacity=\"1\" /><path clip-path=\"url(#clip890)\" d=\"M1351.77 1546.35 L1356.66 1546.35 L1356.66 1552.22 L1351.77 1552.22 L1351.77 1546.35 Z\" fill=\"#000000\" fill-rule=\"evenodd\" fill-opacity=\"1\" /><path clip-path=\"url(#clip890)\" d=\"M1376.84 1520.74 Q1373.23 1520.74 1371.4 1524.31 Q1369.6 1527.85 1369.6 1534.98 Q1369.6 1542.09 1371.4 1545.65 Q1373.23 1549.19 1376.84 1549.19 Q1380.48 1549.19 1382.28 1545.65 Q1384.11 1542.09 1384.11 1534.98 Q1384.11 1527.85 1382.28 1524.31 Q1380.48 1520.74 1376.84 1520.74 M1376.84 1517.04 Q1382.65 1517.04 1385.71 1521.65 Q1388.79 1526.23 1388.79 1534.98 Q1388.79 1543.71 1385.71 1548.31 Q1382.65 1552.9 1376.84 1552.9 Q1371.03 1552.9 1367.95 1548.31 Q1364.9 1543.71 1364.9 1534.98 Q1364.9 1526.23 1367.95 1521.65 Q1371.03 1517.04 1376.84 1517.04 Z\" fill=\"#000000\" fill-rule=\"evenodd\" fill-opacity=\"1\" /><path clip-path=\"url(#clip890)\" d=\"M1425.18 1526.76 L1414.6 1537.39 L1425.18 1547.97 L1422.42 1550.77 L1411.8 1540.14 L1401.17 1550.77 L1398.44 1547.97 L1409 1537.39 L1398.44 1526.76 L1401.17 1523.96 L1411.8 1534.59 L1422.42 1523.96 L1425.18 1526.76 Z\" fill=\"#000000\" fill-rule=\"evenodd\" fill-opacity=\"1\" /><path clip-path=\"url(#clip890)\" d=\"M1437.54 1548.29 L1445.18 1548.29 L1445.18 1521.92 L1436.87 1523.59 L1436.87 1519.33 L1445.13 1517.66 L1449.81 1517.66 L1449.81 1548.29 L1457.44 1548.29 L1457.44 1552.22 L1437.54 1552.22 L1437.54 1548.29 Z\" fill=\"#000000\" fill-rule=\"evenodd\" fill-opacity=\"1\" /><path clip-path=\"url(#clip890)\" d=\"M1476.89 1520.74 Q1473.28 1520.74 1471.45 1524.31 Q1469.64 1527.85 1469.64 1534.98 Q1469.64 1542.09 1471.45 1545.65 Q1473.28 1549.19 1476.89 1549.19 Q1480.52 1549.19 1482.33 1545.65 Q1484.16 1542.09 1484.16 1534.98 Q1484.16 1527.85 1482.33 1524.31 Q1480.52 1520.74 1476.89 1520.74 M1476.89 1517.04 Q1482.7 1517.04 1485.76 1521.65 Q1488.83 1526.23 1488.83 1534.98 Q1488.83 1543.71 1485.76 1548.31 Q1482.7 1552.9 1476.89 1552.9 Q1471.08 1552.9 1468 1548.31 Q1464.94 1543.71 1464.94 1534.98 Q1464.94 1526.23 1468 1521.65 Q1471.08 1517.04 1476.89 1517.04 Z\" fill=\"#000000\" fill-rule=\"evenodd\" fill-opacity=\"1\" /><path clip-path=\"url(#clip890)\" d=\"M1488.83 1511.14 L1512.95 1511.14 L1512.95 1514.34 L1488.83 1514.34 L1488.83 1511.14 Z\" fill=\"#000000\" fill-rule=\"evenodd\" fill-opacity=\"1\" /><path clip-path=\"url(#clip890)\" d=\"M1529.74 1509.26 Q1527.18 1509.26 1525.68 1511.01 Q1524.19 1512.76 1524.19 1515.81 Q1524.19 1518.83 1525.68 1520.6 Q1527.18 1522.35 1529.74 1522.35 Q1532.3 1522.35 1533.78 1520.6 Q1535.29 1518.83 1535.29 1515.81 Q1535.29 1512.76 1533.78 1511.01 Q1532.3 1509.26 1529.74 1509.26 M1537.28 1497.35 L1537.28 1500.82 Q1535.85 1500.14 1534.39 1499.78 Q1532.94 1499.42 1531.51 1499.42 Q1527.75 1499.42 1525.75 1501.96 Q1523.78 1504.5 1523.5 1509.64 Q1524.61 1508 1526.28 1507.13 Q1527.95 1506.25 1529.97 1506.25 Q1534.2 1506.25 1536.64 1508.83 Q1539.11 1511.39 1539.11 1515.81 Q1539.11 1520.13 1536.55 1522.75 Q1533.99 1525.36 1529.74 1525.36 Q1524.87 1525.36 1522.29 1521.64 Q1519.72 1517.89 1519.72 1510.8 Q1519.72 1504.14 1522.88 1500.19 Q1526.04 1496.23 1531.36 1496.23 Q1532.79 1496.23 1534.24 1496.51 Q1535.7 1496.79 1537.28 1497.35 Z\" fill=\"#000000\" fill-rule=\"evenodd\" fill-opacity=\"1\" /><path clip-path=\"url(#clip890)\" d=\"M1760.55 1521.74 L1748.74 1540.19 L1760.55 1540.19 L1760.55 1521.74 M1759.32 1517.66 L1765.2 1517.66 L1765.2 1540.19 L1770.13 1540.19 L1770.13 1544.08 L1765.2 1544.08 L1765.2 1552.22 L1760.55 1552.22 L1760.55 1544.08 L1744.95 1544.08 L1744.95 1539.56 L1759.32 1517.66 Z\" fill=\"#000000\" fill-rule=\"evenodd\" fill-opacity=\"1\" /><path clip-path=\"url(#clip890)\" d=\"M1777.86 1546.35 L1782.75 1546.35 L1782.75 1552.22 L1777.86 1552.22 L1777.86 1546.35 Z\" fill=\"#000000\" fill-rule=\"evenodd\" fill-opacity=\"1\" /><path clip-path=\"url(#clip890)\" d=\"M1802.93 1520.74 Q1799.32 1520.74 1797.49 1524.31 Q1795.69 1527.85 1795.69 1534.98 Q1795.69 1542.09 1797.49 1545.65 Q1799.32 1549.19 1802.93 1549.19 Q1806.57 1549.19 1808.37 1545.65 Q1810.2 1542.09 1810.2 1534.98 Q1810.2 1527.85 1808.37 1524.31 Q1806.57 1520.74 1802.93 1520.74 M1802.93 1517.04 Q1808.74 1517.04 1811.8 1521.65 Q1814.88 1526.23 1814.88 1534.98 Q1814.88 1543.71 1811.8 1548.31 Q1808.74 1552.9 1802.93 1552.9 Q1797.12 1552.9 1794.04 1548.31 Q1790.99 1543.71 1790.99 1534.98 Q1790.99 1526.23 1794.04 1521.65 Q1797.12 1517.04 1802.93 1517.04 Z\" fill=\"#000000\" fill-rule=\"evenodd\" fill-opacity=\"1\" /><path clip-path=\"url(#clip890)\" d=\"M1851.27 1526.76 L1840.69 1537.39 L1851.27 1547.97 L1848.51 1550.77 L1837.89 1540.14 L1827.26 1550.77 L1824.53 1547.97 L1835.09 1537.39 L1824.53 1526.76 L1827.26 1523.96 L1837.89 1534.59 L1848.51 1523.96 L1851.27 1526.76 Z\" fill=\"#000000\" fill-rule=\"evenodd\" fill-opacity=\"1\" /><path clip-path=\"url(#clip890)\" d=\"M1863.63 1548.29 L1871.27 1548.29 L1871.27 1521.92 L1862.96 1523.59 L1862.96 1519.33 L1871.22 1517.66 L1875.9 1517.66 L1875.9 1548.29 L1883.53 1548.29 L1883.53 1552.22 L1863.63 1552.22 L1863.63 1548.29 Z\" fill=\"#000000\" fill-rule=\"evenodd\" fill-opacity=\"1\" /><path clip-path=\"url(#clip890)\" d=\"M1902.98 1520.74 Q1899.37 1520.74 1897.54 1524.31 Q1895.73 1527.85 1895.73 1534.98 Q1895.73 1542.09 1897.54 1545.65 Q1899.37 1549.19 1902.98 1549.19 Q1906.61 1549.19 1908.42 1545.65 Q1910.25 1542.09 1910.25 1534.98 Q1910.25 1527.85 1908.42 1524.31 Q1906.61 1520.74 1902.98 1520.74 M1902.98 1517.04 Q1908.79 1517.04 1911.84 1521.65 Q1914.92 1526.23 1914.92 1534.98 Q1914.92 1543.71 1911.84 1548.31 Q1908.79 1552.9 1902.98 1552.9 Q1897.17 1552.9 1894.09 1548.31 Q1891.03 1543.71 1891.03 1534.98 Q1891.03 1526.23 1894.09 1521.65 Q1897.17 1517.04 1902.98 1517.04 Z\" fill=\"#000000\" fill-rule=\"evenodd\" fill-opacity=\"1\" /><path clip-path=\"url(#clip890)\" d=\"M1914.92 1511.14 L1939.04 1511.14 L1939.04 1514.34 L1914.92 1514.34 L1914.92 1511.14 Z\" fill=\"#000000\" fill-rule=\"evenodd\" fill-opacity=\"1\" /><path clip-path=\"url(#clip890)\" d=\"M1955.83 1509.26 Q1953.27 1509.26 1951.77 1511.01 Q1950.28 1512.76 1950.28 1515.81 Q1950.28 1518.83 1951.77 1520.6 Q1953.27 1522.35 1955.83 1522.35 Q1958.39 1522.35 1959.87 1520.6 Q1961.38 1518.83 1961.38 1515.81 Q1961.38 1512.76 1959.87 1511.01 Q1958.39 1509.26 1955.83 1509.26 M1963.37 1497.35 L1963.37 1500.82 Q1961.94 1500.14 1960.48 1499.78 Q1959.03 1499.42 1957.6 1499.42 Q1953.84 1499.42 1951.84 1501.96 Q1949.87 1504.5 1949.59 1509.64 Q1950.7 1508 1952.37 1507.13 Q1954.04 1506.25 1956.06 1506.25 Q1960.29 1506.25 1962.73 1508.83 Q1965.2 1511.39 1965.2 1515.81 Q1965.2 1520.13 1962.64 1522.75 Q1960.08 1525.36 1955.83 1525.36 Q1950.96 1525.36 1948.38 1521.64 Q1945.81 1517.89 1945.81 1510.8 Q1945.81 1504.14 1948.97 1500.19 Q1952.13 1496.23 1957.45 1496.23 Q1958.88 1496.23 1960.33 1496.51 Q1961.79 1496.79 1963.37 1497.35 Z\" fill=\"#000000\" fill-rule=\"evenodd\" fill-opacity=\"1\" /><path clip-path=\"url(#clip890)\" d=\"M2172.52 1517.66 L2190.88 1517.66 L2190.88 1521.6 L2176.8 1521.6 L2176.8 1530.07 Q2177.82 1529.72 2178.84 1529.56 Q2179.86 1529.38 2180.88 1529.38 Q2186.66 1529.38 2190.04 1532.55 Q2193.42 1535.72 2193.42 1541.14 Q2193.42 1546.72 2189.95 1549.82 Q2186.48 1552.9 2180.16 1552.9 Q2177.98 1552.9 2175.71 1552.53 Q2173.47 1552.16 2171.06 1551.41 L2171.06 1546.72 Q2173.14 1547.85 2175.37 1548.41 Q2177.59 1548.96 2180.07 1548.96 Q2184.07 1548.96 2186.41 1546.85 Q2188.75 1544.75 2188.75 1541.14 Q2188.75 1537.53 2186.41 1535.42 Q2184.07 1533.31 2180.07 1533.31 Q2178.19 1533.31 2176.32 1533.73 Q2174.46 1534.15 2172.52 1535.03 L2172.52 1517.66 Z\" fill=\"#000000\" fill-rule=\"evenodd\" fill-opacity=\"1\" /><path clip-path=\"url(#clip890)\" d=\"M2202.63 1546.35 L2207.52 1546.35 L2207.52 1552.22 L2202.63 1552.22 L2202.63 1546.35 Z\" fill=\"#000000\" fill-rule=\"evenodd\" fill-opacity=\"1\" /><path clip-path=\"url(#clip890)\" d=\"M2227.7 1520.74 Q2224.09 1520.74 2222.26 1524.31 Q2220.46 1527.85 2220.46 1534.98 Q2220.46 1542.09 2222.26 1545.65 Q2224.09 1549.19 2227.7 1549.19 Q2231.34 1549.19 2233.14 1545.65 Q2234.97 1542.09 2234.97 1534.98 Q2234.97 1527.85 2233.14 1524.31 Q2231.34 1520.74 2227.7 1520.74 M2227.7 1517.04 Q2233.51 1517.04 2236.57 1521.65 Q2239.65 1526.23 2239.65 1534.98 Q2239.65 1543.71 2236.57 1548.31 Q2233.51 1552.9 2227.7 1552.9 Q2221.89 1552.9 2218.81 1548.31 Q2215.76 1543.71 2215.76 1534.98 Q2215.76 1526.23 2218.81 1521.65 Q2221.89 1517.04 2227.7 1517.04 Z\" fill=\"#000000\" fill-rule=\"evenodd\" fill-opacity=\"1\" /><path clip-path=\"url(#clip890)\" d=\"M2276.04 1526.76 L2265.46 1537.39 L2276.04 1547.97 L2273.28 1550.77 L2262.66 1540.14 L2252.03 1550.77 L2249.3 1547.97 L2259.86 1537.39 L2249.3 1526.76 L2252.03 1523.96 L2262.66 1534.59 L2273.28 1523.96 L2276.04 1526.76 Z\" fill=\"#000000\" fill-rule=\"evenodd\" fill-opacity=\"1\" /><path clip-path=\"url(#clip890)\" d=\"M2288.4 1548.29 L2296.04 1548.29 L2296.04 1521.92 L2287.73 1523.59 L2287.73 1519.33 L2295.99 1517.66 L2300.67 1517.66 L2300.67 1548.29 L2308.31 1548.29 L2308.31 1552.22 L2288.4 1552.22 L2288.4 1548.29 Z\" fill=\"#000000\" fill-rule=\"evenodd\" fill-opacity=\"1\" /><path clip-path=\"url(#clip890)\" d=\"M2327.75 1520.74 Q2324.14 1520.74 2322.31 1524.31 Q2320.5 1527.85 2320.5 1534.98 Q2320.5 1542.09 2322.31 1545.65 Q2324.14 1549.19 2327.75 1549.19 Q2331.38 1549.19 2333.19 1545.65 Q2335.02 1542.09 2335.02 1534.98 Q2335.02 1527.85 2333.19 1524.31 Q2331.38 1520.74 2327.75 1520.74 M2327.75 1517.04 Q2333.56 1517.04 2336.62 1521.65 Q2339.69 1526.23 2339.69 1534.98 Q2339.69 1543.71 2336.62 1548.31 Q2333.56 1552.9 2327.75 1552.9 Q2321.94 1552.9 2318.86 1548.31 Q2315.81 1543.71 2315.81 1534.98 Q2315.81 1526.23 2318.86 1521.65 Q2321.94 1517.04 2327.75 1517.04 Z\" fill=\"#000000\" fill-rule=\"evenodd\" fill-opacity=\"1\" /><path clip-path=\"url(#clip890)\" d=\"M2339.69 1511.14 L2363.81 1511.14 L2363.81 1514.34 L2339.69 1514.34 L2339.69 1511.14 Z\" fill=\"#000000\" fill-rule=\"evenodd\" fill-opacity=\"1\" /><path clip-path=\"url(#clip890)\" d=\"M2380.6 1509.26 Q2378.04 1509.26 2376.54 1511.01 Q2375.05 1512.76 2375.05 1515.81 Q2375.05 1518.83 2376.54 1520.6 Q2378.04 1522.35 2380.6 1522.35 Q2383.16 1522.35 2384.64 1520.6 Q2386.15 1518.83 2386.15 1515.81 Q2386.15 1512.76 2384.64 1511.01 Q2383.16 1509.26 2380.6 1509.26 M2388.14 1497.35 L2388.14 1500.82 Q2386.71 1500.14 2385.25 1499.78 Q2383.8 1499.42 2382.37 1499.42 Q2378.61 1499.42 2376.61 1501.96 Q2374.64 1504.5 2374.36 1509.64 Q2375.47 1508 2377.14 1507.13 Q2378.81 1506.25 2380.83 1506.25 Q2385.06 1506.25 2387.5 1508.83 Q2389.97 1511.39 2389.97 1515.81 Q2389.97 1520.13 2387.41 1522.75 Q2384.85 1525.36 2380.6 1525.36 Q2375.73 1525.36 2373.15 1521.64 Q2370.58 1517.89 2370.58 1510.8 Q2370.58 1504.14 2373.74 1500.19 Q2376.9 1496.23 2382.22 1496.23 Q2383.65 1496.23 2385.1 1496.51 Q2386.56 1496.79 2388.14 1497.35 Z\" fill=\"#000000\" fill-rule=\"evenodd\" fill-opacity=\"1\" /><polyline clip-path=\"url(#clip892)\" style=\"stroke:#000000; stroke-linecap:round; stroke-linejoin:round; stroke-width:2; stroke-opacity:0.1; fill:none\" points=\"\n",
       "  199.283,1433.78 2352.76,1433.78 \n",
       "  \"/>\n",
       "<polyline clip-path=\"url(#clip892)\" style=\"stroke:#000000; stroke-linecap:round; stroke-linejoin:round; stroke-width:2; stroke-opacity:0.1; fill:none\" points=\"\n",
       "  199.283,1097.24 2352.76,1097.24 \n",
       "  \"/>\n",
       "<polyline clip-path=\"url(#clip892)\" style=\"stroke:#000000; stroke-linecap:round; stroke-linejoin:round; stroke-width:2; stroke-opacity:0.1; fill:none\" points=\"\n",
       "  199.283,760.704 2352.76,760.704 \n",
       "  \"/>\n",
       "<polyline clip-path=\"url(#clip892)\" style=\"stroke:#000000; stroke-linecap:round; stroke-linejoin:round; stroke-width:2; stroke-opacity:0.1; fill:none\" points=\"\n",
       "  199.283,424.167 2352.76,424.167 \n",
       "  \"/>\n",
       "<polyline clip-path=\"url(#clip892)\" style=\"stroke:#000000; stroke-linecap:round; stroke-linejoin:round; stroke-width:2; stroke-opacity:0.1; fill:none\" points=\"\n",
       "  199.283,87.6286 2352.76,87.6286 \n",
       "  \"/>\n",
       "<polyline clip-path=\"url(#clip890)\" style=\"stroke:#000000; stroke-linecap:round; stroke-linejoin:round; stroke-width:4; stroke-opacity:1; fill:none\" points=\"\n",
       "  199.283,1474.16 199.283,47.2441 \n",
       "  \"/>\n",
       "<polyline clip-path=\"url(#clip890)\" style=\"stroke:#000000; stroke-linecap:round; stroke-linejoin:round; stroke-width:4; stroke-opacity:1; fill:none\" points=\"\n",
       "  199.283,1433.78 218.181,1433.78 \n",
       "  \"/>\n",
       "<polyline clip-path=\"url(#clip890)\" style=\"stroke:#000000; stroke-linecap:round; stroke-linejoin:round; stroke-width:4; stroke-opacity:1; fill:none\" points=\"\n",
       "  199.283,1097.24 218.181,1097.24 \n",
       "  \"/>\n",
       "<polyline clip-path=\"url(#clip890)\" style=\"stroke:#000000; stroke-linecap:round; stroke-linejoin:round; stroke-width:4; stroke-opacity:1; fill:none\" points=\"\n",
       "  199.283,760.704 218.181,760.704 \n",
       "  \"/>\n",
       "<polyline clip-path=\"url(#clip890)\" style=\"stroke:#000000; stroke-linecap:round; stroke-linejoin:round; stroke-width:4; stroke-opacity:1; fill:none\" points=\"\n",
       "  199.283,424.167 218.181,424.167 \n",
       "  \"/>\n",
       "<polyline clip-path=\"url(#clip890)\" style=\"stroke:#000000; stroke-linecap:round; stroke-linejoin:round; stroke-width:4; stroke-opacity:1; fill:none\" points=\"\n",
       "  199.283,87.6286 218.181,87.6286 \n",
       "  \"/>\n",
       "<path clip-path=\"url(#clip890)\" d=\"M151.339 1419.58 Q147.728 1419.58 145.899 1423.14 Q144.093 1426.69 144.093 1433.81 Q144.093 1440.92 145.899 1444.49 Q147.728 1448.03 151.339 1448.03 Q154.973 1448.03 156.779 1444.49 Q158.607 1440.92 158.607 1433.81 Q158.607 1426.69 156.779 1423.14 Q154.973 1419.58 151.339 1419.58 M151.339 1415.88 Q157.149 1415.88 160.205 1420.48 Q163.283 1425.06 163.283 1433.81 Q163.283 1442.54 160.205 1447.15 Q157.149 1451.73 151.339 1451.73 Q145.529 1451.73 142.45 1447.15 Q139.394 1442.54 139.394 1433.81 Q139.394 1425.06 142.45 1420.48 Q145.529 1415.88 151.339 1415.88 Z\" fill=\"#000000\" fill-rule=\"evenodd\" fill-opacity=\"1\" /><path clip-path=\"url(#clip890)\" d=\"M85.0429 1110.59 L101.362 1110.59 L101.362 1114.52 L79.4179 1114.52 L79.4179 1110.59 Q82.0799 1107.83 86.6632 1103.2 Q91.2697 1098.55 92.4502 1097.21 Q94.6956 1094.68 95.5752 1092.95 Q96.478 1091.19 96.478 1089.5 Q96.478 1086.74 94.5336 1085.01 Q92.6123 1083.27 89.5104 1083.27 Q87.3114 1083.27 84.8577 1084.04 Q82.4271 1084.8 79.6494 1086.35 L79.6494 1081.63 Q82.4734 1080.49 84.9271 1079.92 Q87.3808 1079.34 89.4178 1079.34 Q94.7882 1079.34 97.9826 1082.02 Q101.177 1084.71 101.177 1089.2 Q101.177 1091.33 100.367 1093.25 Q99.5798 1095.15 97.4734 1097.74 Q96.8947 1098.41 93.7928 1101.63 Q90.691 1104.82 85.0429 1110.59 Z\" fill=\"#000000\" fill-rule=\"evenodd\" fill-opacity=\"1\" /><path clip-path=\"url(#clip890)\" d=\"M111.223 1079.96 L129.58 1079.96 L129.58 1083.9 L115.506 1083.9 L115.506 1092.37 Q116.524 1092.02 117.543 1091.86 Q118.561 1091.68 119.58 1091.68 Q125.367 1091.68 128.746 1094.85 Q132.126 1098.02 132.126 1103.43 Q132.126 1109.01 128.654 1112.11 Q125.182 1115.19 118.862 1115.19 Q116.686 1115.19 114.418 1114.82 Q112.172 1114.45 109.765 1113.71 L109.765 1109.01 Q111.848 1110.15 114.07 1110.7 Q116.293 1111.26 118.77 1111.26 Q122.774 1111.26 125.112 1109.15 Q127.45 1107.05 127.45 1103.43 Q127.45 1099.82 125.112 1097.72 Q122.774 1095.61 118.77 1095.61 Q116.895 1095.61 115.02 1096.03 Q113.168 1096.44 111.223 1097.32 L111.223 1079.96 Z\" fill=\"#000000\" fill-rule=\"evenodd\" fill-opacity=\"1\" /><path clip-path=\"url(#clip890)\" d=\"M151.339 1083.04 Q147.728 1083.04 145.899 1086.61 Q144.093 1090.15 144.093 1097.28 Q144.093 1104.38 145.899 1107.95 Q147.728 1111.49 151.339 1111.49 Q154.973 1111.49 156.779 1107.95 Q158.607 1104.38 158.607 1097.28 Q158.607 1090.15 156.779 1086.61 Q154.973 1083.04 151.339 1083.04 M151.339 1079.34 Q157.149 1079.34 160.205 1083.94 Q163.283 1088.53 163.283 1097.28 Q163.283 1106 160.205 1110.61 Q157.149 1115.19 151.339 1115.19 Q145.529 1115.19 142.45 1110.61 Q139.394 1106 139.394 1097.28 Q139.394 1088.53 142.45 1083.94 Q145.529 1079.34 151.339 1079.34 Z\" fill=\"#000000\" fill-rule=\"evenodd\" fill-opacity=\"1\" /><path clip-path=\"url(#clip890)\" d=\"M81.0614 743.424 L99.4178 743.424 L99.4178 747.36 L85.3438 747.36 L85.3438 755.832 Q86.3623 755.485 87.3808 755.322 Q88.3993 755.137 89.4178 755.137 Q95.2049 755.137 98.5845 758.309 Q101.964 761.48 101.964 766.896 Q101.964 772.475 98.4919 775.577 Q95.0197 778.656 88.7003 778.656 Q86.5243 778.656 84.2558 778.285 Q82.0105 777.915 79.6031 777.174 L79.6031 772.475 Q81.6864 773.609 83.9086 774.165 Q86.1308 774.721 88.6077 774.721 Q92.6123 774.721 94.9502 772.614 Q97.2882 770.508 97.2882 766.896 Q97.2882 763.285 94.9502 761.179 Q92.6123 759.072 88.6077 759.072 Q86.7327 759.072 84.8577 759.489 Q83.0058 759.906 81.0614 760.785 L81.0614 743.424 Z\" fill=\"#000000\" fill-rule=\"evenodd\" fill-opacity=\"1\" /><path clip-path=\"url(#clip890)\" d=\"M121.177 746.503 Q117.566 746.503 115.737 750.068 Q113.932 753.61 113.932 760.739 Q113.932 767.846 115.737 771.41 Q117.566 774.952 121.177 774.952 Q124.811 774.952 126.617 771.41 Q128.445 767.846 128.445 760.739 Q128.445 753.61 126.617 750.068 Q124.811 746.503 121.177 746.503 M121.177 742.799 Q126.987 742.799 130.043 747.406 Q133.121 751.989 133.121 760.739 Q133.121 769.466 130.043 774.072 Q126.987 778.656 121.177 778.656 Q115.367 778.656 112.288 774.072 Q109.233 769.466 109.233 760.739 Q109.233 751.989 112.288 747.406 Q115.367 742.799 121.177 742.799 Z\" fill=\"#000000\" fill-rule=\"evenodd\" fill-opacity=\"1\" /><path clip-path=\"url(#clip890)\" d=\"M151.339 746.503 Q147.728 746.503 145.899 750.068 Q144.093 753.61 144.093 760.739 Q144.093 767.846 145.899 771.41 Q147.728 774.952 151.339 774.952 Q154.973 774.952 156.779 771.41 Q158.607 767.846 158.607 760.739 Q158.607 753.61 156.779 750.068 Q154.973 746.503 151.339 746.503 M151.339 742.799 Q157.149 742.799 160.205 747.406 Q163.283 751.989 163.283 760.739 Q163.283 769.466 160.205 774.072 Q157.149 778.656 151.339 778.656 Q145.529 778.656 142.45 774.072 Q139.394 769.466 139.394 760.739 Q139.394 751.989 142.45 747.406 Q145.529 742.799 151.339 742.799 Z\" fill=\"#000000\" fill-rule=\"evenodd\" fill-opacity=\"1\" /><path clip-path=\"url(#clip890)\" d=\"M79.8346 406.887 L102.057 406.887 L102.057 408.877 L89.5104 441.447 L84.6262 441.447 L96.4317 410.822 L79.8346 410.822 L79.8346 406.887 Z\" fill=\"#000000\" fill-rule=\"evenodd\" fill-opacity=\"1\" /><path clip-path=\"url(#clip890)\" d=\"M111.223 406.887 L129.58 406.887 L129.58 410.822 L115.506 410.822 L115.506 419.294 Q116.524 418.947 117.543 418.785 Q118.561 418.599 119.58 418.599 Q125.367 418.599 128.746 421.771 Q132.126 424.942 132.126 430.359 Q132.126 435.937 128.654 439.039 Q125.182 442.118 118.862 442.118 Q116.686 442.118 114.418 441.747 Q112.172 441.377 109.765 440.636 L109.765 435.937 Q111.848 437.072 114.07 437.627 Q116.293 438.183 118.77 438.183 Q122.774 438.183 125.112 436.076 Q127.45 433.97 127.45 430.359 Q127.45 426.748 125.112 424.641 Q122.774 422.535 118.77 422.535 Q116.895 422.535 115.02 422.951 Q113.168 423.368 111.223 424.248 L111.223 406.887 Z\" fill=\"#000000\" fill-rule=\"evenodd\" fill-opacity=\"1\" /><path clip-path=\"url(#clip890)\" d=\"M151.339 409.965 Q147.728 409.965 145.899 413.53 Q144.093 417.072 144.093 424.201 Q144.093 431.308 145.899 434.872 Q147.728 438.414 151.339 438.414 Q154.973 438.414 156.779 434.872 Q158.607 431.308 158.607 424.201 Q158.607 417.072 156.779 413.53 Q154.973 409.965 151.339 409.965 M151.339 406.262 Q157.149 406.262 160.205 410.868 Q163.283 415.451 163.283 424.201 Q163.283 432.928 160.205 437.534 Q157.149 442.118 151.339 442.118 Q145.529 442.118 142.45 437.534 Q139.394 432.928 139.394 424.201 Q139.394 415.451 142.45 410.868 Q145.529 406.262 151.339 406.262 Z\" fill=\"#000000\" fill-rule=\"evenodd\" fill-opacity=\"1\" /><path clip-path=\"url(#clip890)\" d=\"M51.6634 100.973 L59.3023 100.973 L59.3023 74.6079 L50.9921 76.2745 L50.9921 72.0153 L59.256 70.3486 L63.9319 70.3486 L63.9319 100.973 L71.5707 100.973 L71.5707 104.909 L51.6634 104.909 L51.6634 100.973 Z\" fill=\"#000000\" fill-rule=\"evenodd\" fill-opacity=\"1\" /><path clip-path=\"url(#clip890)\" d=\"M91.0151 73.4273 Q87.404 73.4273 85.5753 76.9921 Q83.7697 80.5338 83.7697 87.6634 Q83.7697 94.7698 85.5753 98.3346 Q87.404 101.876 91.0151 101.876 Q94.6493 101.876 96.4548 98.3346 Q98.2835 94.7698 98.2835 87.6634 Q98.2835 80.5338 96.4548 76.9921 Q94.6493 73.4273 91.0151 73.4273 M91.0151 69.7236 Q96.8252 69.7236 99.8808 74.3301 Q102.959 78.9134 102.959 87.6634 Q102.959 96.3902 99.8808 100.997 Q96.8252 105.58 91.0151 105.58 Q85.2049 105.58 82.1262 100.997 Q79.0707 96.3902 79.0707 87.6634 Q79.0707 78.9134 82.1262 74.3301 Q85.2049 69.7236 91.0151 69.7236 Z\" fill=\"#000000\" fill-rule=\"evenodd\" fill-opacity=\"1\" /><path clip-path=\"url(#clip890)\" d=\"M121.177 73.4273 Q117.566 73.4273 115.737 76.9921 Q113.932 80.5338 113.932 87.6634 Q113.932 94.7698 115.737 98.3346 Q117.566 101.876 121.177 101.876 Q124.811 101.876 126.617 98.3346 Q128.445 94.7698 128.445 87.6634 Q128.445 80.5338 126.617 76.9921 Q124.811 73.4273 121.177 73.4273 M121.177 69.7236 Q126.987 69.7236 130.043 74.3301 Q133.121 78.9134 133.121 87.6634 Q133.121 96.3902 130.043 100.997 Q126.987 105.58 121.177 105.58 Q115.367 105.58 112.288 100.997 Q109.233 96.3902 109.233 87.6634 Q109.233 78.9134 112.288 74.3301 Q115.367 69.7236 121.177 69.7236 Z\" fill=\"#000000\" fill-rule=\"evenodd\" fill-opacity=\"1\" /><path clip-path=\"url(#clip890)\" d=\"M151.339 73.4273 Q147.728 73.4273 145.899 76.9921 Q144.093 80.5338 144.093 87.6634 Q144.093 94.7698 145.899 98.3346 Q147.728 101.876 151.339 101.876 Q154.973 101.876 156.779 98.3346 Q158.607 94.7698 158.607 87.6634 Q158.607 80.5338 156.779 76.9921 Q154.973 73.4273 151.339 73.4273 M151.339 69.7236 Q157.149 69.7236 160.205 74.3301 Q163.283 78.9134 163.283 87.6634 Q163.283 96.3902 160.205 100.997 Q157.149 105.58 151.339 105.58 Q145.529 105.58 142.45 100.997 Q139.394 96.3902 139.394 87.6634 Q139.394 78.9134 142.45 74.3301 Q145.529 69.7236 151.339 69.7236 Z\" fill=\"#000000\" fill-rule=\"evenodd\" fill-opacity=\"1\" /><polyline clip-path=\"url(#clip892)\" style=\"stroke:#009af9; stroke-linecap:round; stroke-linejoin:round; stroke-width:4; stroke-opacity:1; fill:none\" points=\"\n",
       "  260.231,125.321 367.156,233.013 474.081,379.744 581.006,568.205 687.931,739.166 794.856,989.55 901.781,1145.7 1008.71,1299.16 1115.63,1404.16 1222.56,1433.78 \n",
       "  1329.48,1421.66 1436.41,1320.7 1543.33,1160.51 1650.26,997.627 1757.18,795.704 1864.11,585.705 1971.03,387.82 2077.96,226.282 2184.88,141.475 2291.81,87.6286 \n",
       "  \n",
       "  \"/>\n",
       "<circle clip-path=\"url(#clip892)\" cx=\"260.231\" cy=\"125.321\" r=\"14.4\" fill=\"#009af9\" fill-rule=\"evenodd\" fill-opacity=\"1\" stroke=\"#000000\" stroke-opacity=\"1\" stroke-width=\"3.2\"/>\n",
       "<circle clip-path=\"url(#clip892)\" cx=\"367.156\" cy=\"233.013\" r=\"14.4\" fill=\"#009af9\" fill-rule=\"evenodd\" fill-opacity=\"1\" stroke=\"#000000\" stroke-opacity=\"1\" stroke-width=\"3.2\"/>\n",
       "<circle clip-path=\"url(#clip892)\" cx=\"474.081\" cy=\"379.744\" r=\"14.4\" fill=\"#009af9\" fill-rule=\"evenodd\" fill-opacity=\"1\" stroke=\"#000000\" stroke-opacity=\"1\" stroke-width=\"3.2\"/>\n",
       "<circle clip-path=\"url(#clip892)\" cx=\"581.006\" cy=\"568.205\" r=\"14.4\" fill=\"#009af9\" fill-rule=\"evenodd\" fill-opacity=\"1\" stroke=\"#000000\" stroke-opacity=\"1\" stroke-width=\"3.2\"/>\n",
       "<circle clip-path=\"url(#clip892)\" cx=\"687.931\" cy=\"739.166\" r=\"14.4\" fill=\"#009af9\" fill-rule=\"evenodd\" fill-opacity=\"1\" stroke=\"#000000\" stroke-opacity=\"1\" stroke-width=\"3.2\"/>\n",
       "<circle clip-path=\"url(#clip892)\" cx=\"794.856\" cy=\"989.55\" r=\"14.4\" fill=\"#009af9\" fill-rule=\"evenodd\" fill-opacity=\"1\" stroke=\"#000000\" stroke-opacity=\"1\" stroke-width=\"3.2\"/>\n",
       "<circle clip-path=\"url(#clip892)\" cx=\"901.781\" cy=\"1145.7\" r=\"14.4\" fill=\"#009af9\" fill-rule=\"evenodd\" fill-opacity=\"1\" stroke=\"#000000\" stroke-opacity=\"1\" stroke-width=\"3.2\"/>\n",
       "<circle clip-path=\"url(#clip892)\" cx=\"1008.71\" cy=\"1299.16\" r=\"14.4\" fill=\"#009af9\" fill-rule=\"evenodd\" fill-opacity=\"1\" stroke=\"#000000\" stroke-opacity=\"1\" stroke-width=\"3.2\"/>\n",
       "<circle clip-path=\"url(#clip892)\" cx=\"1115.63\" cy=\"1404.16\" r=\"14.4\" fill=\"#009af9\" fill-rule=\"evenodd\" fill-opacity=\"1\" stroke=\"#000000\" stroke-opacity=\"1\" stroke-width=\"3.2\"/>\n",
       "<circle clip-path=\"url(#clip892)\" cx=\"1222.56\" cy=\"1433.78\" r=\"14.4\" fill=\"#009af9\" fill-rule=\"evenodd\" fill-opacity=\"1\" stroke=\"#000000\" stroke-opacity=\"1\" stroke-width=\"3.2\"/>\n",
       "<circle clip-path=\"url(#clip892)\" cx=\"1329.48\" cy=\"1421.66\" r=\"14.4\" fill=\"#009af9\" fill-rule=\"evenodd\" fill-opacity=\"1\" stroke=\"#000000\" stroke-opacity=\"1\" stroke-width=\"3.2\"/>\n",
       "<circle clip-path=\"url(#clip892)\" cx=\"1436.41\" cy=\"1320.7\" r=\"14.4\" fill=\"#009af9\" fill-rule=\"evenodd\" fill-opacity=\"1\" stroke=\"#000000\" stroke-opacity=\"1\" stroke-width=\"3.2\"/>\n",
       "<circle clip-path=\"url(#clip892)\" cx=\"1543.33\" cy=\"1160.51\" r=\"14.4\" fill=\"#009af9\" fill-rule=\"evenodd\" fill-opacity=\"1\" stroke=\"#000000\" stroke-opacity=\"1\" stroke-width=\"3.2\"/>\n",
       "<circle clip-path=\"url(#clip892)\" cx=\"1650.26\" cy=\"997.627\" r=\"14.4\" fill=\"#009af9\" fill-rule=\"evenodd\" fill-opacity=\"1\" stroke=\"#000000\" stroke-opacity=\"1\" stroke-width=\"3.2\"/>\n",
       "<circle clip-path=\"url(#clip892)\" cx=\"1757.18\" cy=\"795.704\" r=\"14.4\" fill=\"#009af9\" fill-rule=\"evenodd\" fill-opacity=\"1\" stroke=\"#000000\" stroke-opacity=\"1\" stroke-width=\"3.2\"/>\n",
       "<circle clip-path=\"url(#clip892)\" cx=\"1864.11\" cy=\"585.705\" r=\"14.4\" fill=\"#009af9\" fill-rule=\"evenodd\" fill-opacity=\"1\" stroke=\"#000000\" stroke-opacity=\"1\" stroke-width=\"3.2\"/>\n",
       "<circle clip-path=\"url(#clip892)\" cx=\"1971.03\" cy=\"387.82\" r=\"14.4\" fill=\"#009af9\" fill-rule=\"evenodd\" fill-opacity=\"1\" stroke=\"#000000\" stroke-opacity=\"1\" stroke-width=\"3.2\"/>\n",
       "<circle clip-path=\"url(#clip892)\" cx=\"2077.96\" cy=\"226.282\" r=\"14.4\" fill=\"#009af9\" fill-rule=\"evenodd\" fill-opacity=\"1\" stroke=\"#000000\" stroke-opacity=\"1\" stroke-width=\"3.2\"/>\n",
       "<circle clip-path=\"url(#clip892)\" cx=\"2184.88\" cy=\"141.475\" r=\"14.4\" fill=\"#009af9\" fill-rule=\"evenodd\" fill-opacity=\"1\" stroke=\"#000000\" stroke-opacity=\"1\" stroke-width=\"3.2\"/>\n",
       "<circle clip-path=\"url(#clip892)\" cx=\"2291.81\" cy=\"87.6286\" r=\"14.4\" fill=\"#009af9\" fill-rule=\"evenodd\" fill-opacity=\"1\" stroke=\"#000000\" stroke-opacity=\"1\" stroke-width=\"3.2\"/>\n",
       "<path clip-path=\"url(#clip890)\" d=\"\n",
       "M1989.27 198.488 L2280.97 198.488 L2280.97 94.8081 L1989.27 94.8081  Z\n",
       "  \" fill=\"#ffffff\" fill-rule=\"evenodd\" fill-opacity=\"1\"/>\n",
       "<polyline clip-path=\"url(#clip890)\" style=\"stroke:#000000; stroke-linecap:round; stroke-linejoin:round; stroke-width:4; stroke-opacity:1; fill:none\" points=\"\n",
       "  1989.27,198.488 2280.97,198.488 2280.97,94.8081 1989.27,94.8081 1989.27,198.488 \n",
       "  \"/>\n",
       "<polyline clip-path=\"url(#clip890)\" style=\"stroke:#009af9; stroke-linecap:round; stroke-linejoin:round; stroke-width:4; stroke-opacity:1; fill:none\" points=\"\n",
       "  2013.2,146.648 2156.76,146.648 \n",
       "  \"/>\n",
       "<circle clip-path=\"url(#clip890)\" cx=\"2084.98\" cy=\"146.648\" r=\"19.9396\" fill=\"#009af9\" fill-rule=\"evenodd\" fill-opacity=\"1\" stroke=\"#000000\" stroke-opacity=\"1\" stroke-width=\"5.12\"/>\n",
       "<path clip-path=\"url(#clip890)\" d=\"M2194.53 166.336 Q2192.73 170.965 2191.01 172.377 Q2189.3 173.789 2186.43 173.789 L2183.03 173.789 L2183.03 170.224 L2185.53 170.224 Q2187.29 170.224 2188.26 169.391 Q2189.23 168.558 2190.41 165.456 L2191.17 163.511 L2180.69 138.002 L2185.2 138.002 L2193.3 158.28 L2201.41 138.002 L2205.92 138.002 L2194.53 166.336 Z\" fill=\"#000000\" fill-rule=\"evenodd\" fill-opacity=\"1\" /><path clip-path=\"url(#clip890)\" d=\"M2213.21 159.993 L2220.85 159.993 L2220.85 133.627 L2212.54 135.294 L2212.54 131.035 L2220.8 129.368 L2225.48 129.368 L2225.48 159.993 L2233.12 159.993 L2233.12 163.928 L2213.21 163.928 L2213.21 159.993 Z\" fill=\"#000000\" fill-rule=\"evenodd\" fill-opacity=\"1\" /></svg>\n"
      ]
     },
     "execution_count": 11,
     "metadata": {},
     "output_type": "execute_result"
    }
   ],
   "source": [
    "plot(trange, [state_count[\"g\"] for state_count in state_counts], marker=:circle)"
   ]
  },
  {
   "cell_type": "code",
   "execution_count": null,
   "id": "6ab84da4",
   "metadata": {},
   "outputs": [],
   "source": []
  },
  {
   "cell_type": "code",
   "execution_count": null,
   "id": "ad7af9f5",
   "metadata": {},
   "outputs": [],
   "source": []
  }
 ],
 "metadata": {
  "kernelspec": {
   "display_name": "Julia 1.8.2",
   "language": "julia",
   "name": "julia-1.8"
  },
  "language_info": {
   "file_extension": ".jl",
   "mimetype": "application/julia",
   "name": "julia",
   "version": "1.8.2"
  },
  "varInspector": {
   "cols": {
    "lenName": 16,
    "lenType": 16,
    "lenVar": 40
   },
   "kernels_config": {
    "python": {
     "delete_cmd_postfix": "",
     "delete_cmd_prefix": "del ",
     "library": "var_list.py",
     "varRefreshCmd": "print(var_dic_list())"
    },
    "r": {
     "delete_cmd_postfix": ") ",
     "delete_cmd_prefix": "rm(",
     "library": "var_list.r",
     "varRefreshCmd": "cat(var_dic_list()) "
    }
   },
   "types_to_exclude": [
    "module",
    "function",
    "builtin_function_or_method",
    "instance",
    "_Feature"
   ],
   "window_display": false
  }
 },
 "nbformat": 4,
 "nbformat_minor": 5
}
